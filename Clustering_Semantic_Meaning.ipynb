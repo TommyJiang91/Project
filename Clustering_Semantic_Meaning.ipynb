{
  "nbformat": 4,
  "nbformat_minor": 0,
  "metadata": {
    "colab": {
      "name": "Internship Project Clustering Semantic Meaning.ipynb",
      "provenance": [],
      "collapsed_sections": [],
      "machine_shape": "hm"
    },
    "kernelspec": {
      "name": "python3",
      "display_name": "Python 3"
    }
  },
  "cells": [
    {
      "cell_type": "code",
      "metadata": {
        "id": "T2K9umuQiJ3K",
        "colab_type": "code",
        "colab": {
          "base_uri": "https://localhost:8080/",
          "height": 71
        },
        "outputId": "2f1b7d68-1754-4073-ae23-27f87bede194"
      },
      "source": [
        "import numpy as np\n",
        "import nltk\n",
        "import pandas as pd\n",
        "import collections\n",
        "from absl import logging\n",
        "import tensorflow as tf\n",
        "import tensorflow_hub as hub\n",
        "import matplotlib.pyplot as plt\n",
        "import os\n",
        "import re\n",
        "import seaborn as sns"
      ],
      "execution_count": 1,
      "outputs": [
        {
          "output_type": "stream",
          "text": [
            "/usr/local/lib/python3.6/dist-packages/statsmodels/tools/_testing.py:19: FutureWarning: pandas.util.testing is deprecated. Use the functions in the public API at pandas.testing instead.\n",
            "  import pandas.util.testing as tm\n"
          ],
          "name": "stderr"
        }
      ]
    },
    {
      "cell_type": "code",
      "metadata": {
        "id": "BO0N4V3zpR4A",
        "colab_type": "code",
        "colab": {
          "base_uri": "https://localhost:8080/",
          "height": 34
        },
        "outputId": "c299da3f-d956-4cea-ef5c-5fdb9daee8f2"
      },
      "source": [
        "from google.colab import drive\n",
        "drive.mount(\"/content/drive/\")\n",
        "df = pd.read_csv(\"/content/drive/My Drive/NLP summer Internship/Cleanned_Complaints.csv\")\n",
        "df=df[df[\"Label\"]!=\"Other financial service\"]\n",
        "df=df.dropna()"
      ],
      "execution_count": 2,
      "outputs": [
        {
          "output_type": "stream",
          "text": [
            "Drive already mounted at /content/drive/; to attempt to forcibly remount, call drive.mount(\"/content/drive/\", force_remount=True).\n"
          ],
          "name": "stdout"
        }
      ]
    },
    {
      "cell_type": "code",
      "metadata": {
        "id": "JuZYA1sziHlf",
        "colab_type": "code",
        "colab": {}
      },
      "source": [
        "# Load pretrained model - google universal sentence encoder\n",
        "module_url = \"https://tfhub.dev/google/universal-sentence-encoder/4\" \n",
        "model = hub.load(module_url)\n",
        "def embed(input):\n",
        "  return model(input)"
      ],
      "execution_count": 3,
      "outputs": []
    },
    {
      "cell_type": "code",
      "metadata": {
        "id": "4LzC2yuaKd6y",
        "colab_type": "code",
        "colab": {}
      },
      "source": [
        "# Prepare four vendor datasets and one Well's Fargo set\n",
        "df_wells=df[df[\"Company\"]==\"WELLS FARGO & COMPANY\"]\n",
        "credit_unions=[\"TRANSUNION INTERMEDIATE HOLDINGS, INC.\"]\n",
        "banks=[\"CITIBANK, N.A.\",\"BANK OF AMERICA, NATIONAL ASSOCIATION\",\"JPMORGAN CHASE & CO.\",\"U.S. BANCORP\"]\n",
        "mortgages=[\"Ocwen Financial Corporation\",\"NATIONSTAR MORTGAGE\",\"Ditech Financial LLC\",\"SELECT PORTFOLIO SERVICING, INC.\",\n",
        "           \"Specialized Loan Servicing Holdings LLC\",\"SYNCHRONY FINANCIAL\"]\n",
        "balanced=[\"Santander Consumer USA Holdings Inc.\",\"Ocwen Financial Corporation\",\"BANK OF AMERICA, NATIONAL ASSOCIATION\",\n",
        "          \"JPMORGAN CHASE & CO.\",\"U.S. BANCORP\",\"PNC Bank N.A.\",\"UNITED SERVICES AUTOMOBILE ASSOCIATION\",\"SUNTRUST BANKS, INC.\"]\n",
        "df_cu=df[df[\"Company\"].isin(credit_unions)]\n",
        "df_banks=df[df[\"Company\"].isin(banks)]\n",
        "df_mortgages=df[df[\"Company\"].isin(mortgages)]\n",
        "df_balanced=df[df[\"Company\"].isin(balanced)]"
      ],
      "execution_count": 5,
      "outputs": []
    },
    {
      "cell_type": "code",
      "metadata": {
        "id": "tfzJL4B3iZ7b",
        "colab_type": "code",
        "colab": {
          "base_uri": "https://localhost:8080/",
          "height": 34
        },
        "outputId": "36c35c4e-ca4e-4fc0-83cf-a106e229c2dd"
      },
      "source": [
        "# Check number of documents in each dataset\n",
        "cu_complaint=df_cu[\"Complaint_reduced\"]\n",
        "banks_complaint=df_banks[\"Complaint_reduced\"]\n",
        "mortgages_complaint=df_mortgages[\"Complaint_reduced\"]\n",
        "balanced_complaint=df_balanced[\"Complaint_reduced\"]\n",
        "wells_complaint=df_wells[\"Complaint_reduced\"]\n",
        "print(cu_complaint.shape,banks_complaint.shape,mortgages_complaint.shape,balanced_complaint.shape,wells_complaint.shape)"
      ],
      "execution_count": 6,
      "outputs": [
        {
          "output_type": "stream",
          "text": [
            "(55056,) (58302,) (29905,) (57125,) (17613,)\n"
          ],
          "name": "stdout"
        }
      ]
    },
    {
      "cell_type": "code",
      "metadata": {
        "id": "8Rfqpar3RkjB",
        "colab_type": "code",
        "colab": {
          "base_uri": "https://localhost:8080/",
          "height": 102
        },
        "outputId": "a85abfb2-24c7-4342-eb40-8a8b2aa24164"
      },
      "source": [
        "# Coding block to calculate pairwise similarity matrix\n",
        "# This will take 10 minutes to embed and require around 15G memory\n",
        "print(\"now embedding wells dataset\")\n",
        "# Embedding wells dataset\n",
        "wells_embed=np.array(embed(wells_complaint))\n",
        "\n",
        "print(\"now embedding cu dataset\")\n",
        "# Embedding cu dataset\n",
        "cu_embed1=embed(cu_complaint[0:15000])\n",
        "cu_embed2=embed(cu_complaint[15000:30000])\n",
        "cu_embed3=embed(cu_complaint[30000:45000])\n",
        "cu_embed4=embed(cu_complaint[45000:])\n",
        "cu_embed=np.concatenate((cu_embed1,cu_embed2,cu_embed3,cu_embed4),axis=0)\n",
        "\n",
        "print(\"now embedding mortgages dataset\")\n",
        "# Embedding mortgages dataset\n",
        "mortgages_embed1=embed(mortgages_complaint[0:15000])\n",
        "mortgages_embed2=embed(mortgages_complaint[15000:])\n",
        "mortgages_embed=np.concatenate((mortgages_embed1,mortgages_embed2),axis=0)\n",
        "\n",
        "print(\"now embedding banks dataset\")\n",
        "# Embedding banks dataset\n",
        "banks_embed1=embed(banks_complaint[0:15000])\n",
        "banks_embed2=embed(banks_complaint[15000:30000])\n",
        "banks_embed3=embed(banks_complaint[30000:45000])\n",
        "banks_embed4=embed(banks_complaint[45000:])\n",
        "banks_embed=np.concatenate((banks_embed1,banks_embed2,banks_embed3,banks_embed4),axis=0)\n",
        "\n",
        "print(\"now embedding balanced dataset\")\n",
        "# Embedding banks dataset\n",
        "balanced_embed1=embed(balanced_complaint[0:15000])\n",
        "balanced_embed2=embed(balanced_complaint[15000:30000])\n",
        "balanced_embed3=embed(balanced_complaint[30000:45000])\n",
        "balanced_embed4=embed(balanced_complaint[45000:])\n",
        "balanced_embed=np.concatenate((balanced_embed1,balanced_embed2,balanced_embed3,balanced_embed4),axis=0)"
      ],
      "execution_count": 7,
      "outputs": [
        {
          "output_type": "stream",
          "text": [
            "now embedding wells dataset\n",
            "now embedding cu dataset\n",
            "now embedding mortgages dataset\n",
            "now embedding banks dataset\n",
            "now embedding balanced dataset\n"
          ],
          "name": "stdout"
        }
      ]
    },
    {
      "cell_type": "markdown",
      "metadata": {
        "id": "y3V28RcBOx1B",
        "colab_type": "text"
      },
      "source": [
        "#### Combined all the embeddings and clustering "
      ]
    },
    {
      "cell_type": "code",
      "metadata": {
        "id": "q5QsLkD1OzMD",
        "colab_type": "code",
        "colab": {
          "base_uri": "https://localhost:8080/",
          "height": 34
        },
        "outputId": "00ae9670-1a15-453e-ffb4-a1edbecb2fd7"
      },
      "source": [
        "#Concatenate all datasets(all vendors+ test sets together, depend on which embedding is used)\n",
        "#SVD dimension reduction\n",
        "from sklearn.decomposition import TruncatedSVD\n",
        "together=np.concatenate((cu_embed,mortgages_embed,banks_embed,balanced_embed,wells_embed),axis=0)\n",
        "svd = TruncatedSVD(n_components=110, n_iter=10, random_state=0)\n",
        "svd.fit(together)\n",
        "#check variance_ratio recommend above 80%\n",
        "print(svd.explained_variance_ratio_.sum())"
      ],
      "execution_count": 12,
      "outputs": [
        {
          "output_type": "stream",
          "text": [
            "0.8160601\n"
          ],
          "name": "stdout"
        }
      ]
    },
    {
      "cell_type": "code",
      "metadata": {
        "id": "QfiPaKKNPpOg",
        "colab_type": "code",
        "colab": {
          "base_uri": "https://localhost:8080/",
          "height": 34
        },
        "outputId": "2f17529b-20e3-4ef9-a2a5-c2c7d5d3542e"
      },
      "source": [
        "#check matrix dimension after svd\n",
        "together_reduced=svd.transform(together)\n",
        "together_reduced.shape"
      ],
      "execution_count": 13,
      "outputs": [
        {
          "output_type": "execute_result",
          "data": {
            "text/plain": [
              "(218001, 110)"
            ]
          },
          "metadata": {
            "tags": []
          },
          "execution_count": 13
        }
      ]
    },
    {
      "cell_type": "code",
      "metadata": {
        "id": "Ac6vXGF3PP9H",
        "colab_type": "code",
        "colab": {
          "base_uri": "https://localhost:8080/",
          "height": 34
        },
        "outputId": "18927000-1ff1-492e-e30d-88c93d76d672"
      },
      "source": [
        "#Check elbow graph to pick clusters (heuristic)\n",
        "from sklearn.cluster import KMeans\n",
        "from sklearn.metrics import silhouette_score\n",
        "from sklearn import metrics \n",
        "from scipy.spatial.distance import cdist\n",
        "import progressbar\n",
        "from time import sleep\n",
        "\n",
        "#maximum cluster number to be checked by elbow method, this can be changed, minimum is 2\n",
        "number_of_cluster_range=20 \n",
        "#progress bar\n",
        "bar = progressbar.ProgressBar(maxval=number_of_cluster_range, \\\n",
        "    widgets=[progressbar.Bar('=', '[', ']'), ' ', progressbar.Percentage()])\n",
        "bar.start()\n",
        "#Compile elbow graph\n",
        "axis=[]\n",
        "elbow=[]\n",
        "for i in range(2,number_of_cluster_range+1):\n",
        "  KmeansModel = KMeans(n_clusters=i, random_state=0)\n",
        "  Preds=KmeansModel.fit_predict(together_reduced)\n",
        "  axis.append(i)\n",
        "  elbow.append(KmeansModel.inertia_)\n",
        "  bar.update(i)\n",
        "bar.finish()"
      ],
      "execution_count": 14,
      "outputs": [
        {
          "output_type": "stream",
          "text": [
            "[========================================================================] 100%\n"
          ],
          "name": "stderr"
        }
      ]
    },
    {
      "cell_type": "code",
      "metadata": {
        "id": "GVvUQX26SnpJ",
        "colab_type": "code",
        "colab": {
          "base_uri": "https://localhost:8080/",
          "height": 295
        },
        "outputId": "069d5586-5aa9-4e2a-df3f-0385c6641345"
      },
      "source": [
        "#Plot Elbow graph\n",
        "plt.plot(axis, elbow, 'bx-') \n",
        "plt.title('Values of K') \n",
        "plt.xlabel('Values of K') \n",
        "plt.ylabel('Distortion') \n",
        "plt.title('Sum of squared distance') \n",
        "plt.show() "
      ],
      "execution_count": null,
      "outputs": [
        {
          "output_type": "display_data",
          "data": {
            "image/png": "[encoded data removed]",
            "text/plain": [
              "<Figure size 432x288 with 1 Axes>"
            ]
          },
          "metadata": {
            "tags": [],
            "needs_background": "light"
          }
        }
      ]
    },
    {
      "cell_type": "markdown",
      "metadata": {
        "id": "NChXRqtkxHfK",
        "colab_type": "text"
      },
      "source": [
        "#### Setting number of clusters"
      ]
    },
    {
      "cell_type": "code",
      "metadata": {
        "id": "M6O-bWy3xGxi",
        "colab_type": "code",
        "colab": {}
      },
      "source": [
        "num_clusters=10"
      ],
      "execution_count": 35,
      "outputs": []
    },
    {
      "cell_type": "code",
      "metadata": {
        "id": "O9nh5mbySqk2",
        "colab_type": "code",
        "colab": {}
      },
      "source": [
        "# Choose n_clusters using elbow method, if the dataset is small, silhouette graph could be used\n",
        "KmeansModel = KMeans(n_clusters=num_clusters, random_state=0)\n",
        "Preds=KmeansModel.fit_predict(together_reduced)"
      ],
      "execution_count": 36,
      "outputs": []
    },
    {
      "cell_type": "code",
      "metadata": {
        "id": "OpoxO06eSzZF",
        "colab_type": "code",
        "colab": {}
      },
      "source": [
        "# Assign cluster numbers to each of the document in all datasets\n",
        "n_cu=cu_embed.shape[0]\n",
        "n_mortgages=mortgages_embed.shape[0]\n",
        "n_banks=banks_embed.shape[0]\n",
        "n_balanced=balanced_embed.shape[0]\n",
        "cu_wells_vendor_label=Preds[0:n_cu]\n",
        "mortgages_wells_vendor_label=Preds[n_cu:n_mortgages+n_cu]\n",
        "banks_wells_vendor_label=Preds[n_mortgages+n_cu:n_mortgages+n_cu+n_banks]\n",
        "balanced_wells_vendor_label=Preds[n_mortgages+n_cu+n_banks:n_mortgages+n_cu+n_banks+n_balanced]\n",
        "wells_label=Preds[n_mortgages+n_cu+n_banks+n_balanced:]"
      ],
      "execution_count": 37,
      "outputs": []
    },
    {
      "cell_type": "code",
      "metadata": {
        "id": "psUV-nNDZDfz",
        "colab_type": "code",
        "colab": {}
      },
      "source": [
        "# Extract the frequency and label for each clusters for the vendors and Wells Fargo dataset\n",
        "label_vendor_cu,count_vendor_cu=np.unique(cu_wells_vendor_label,return_counts=True)\n",
        "label_vendor_mortgages,count_vendor_mortgages=np.unique(mortgages_wells_vendor_label,return_counts=True)\n",
        "label_vendor_banks,count_vendor_banks=np.unique(banks_wells_vendor_label,return_counts=True)\n",
        "label_vendor_balanced,count_vendor_balanced=np.unique(balanced_wells_vendor_label,return_counts=True)\n",
        "label_wells,count_wells=np.unique(wells_label,return_counts=True)"
      ],
      "execution_count": 38,
      "outputs": []
    },
    {
      "cell_type": "code",
      "metadata": {
        "id": "LG-Nv0TxgB3G",
        "colab_type": "code",
        "colab": {
          "base_uri": "https://localhost:8080/",
          "height": 34
        },
        "outputId": "3463ad39-19df-4325-bf59-6306bce86909"
      },
      "source": [
        "# check if each vendor dataset has value in each cluster, should equal to num_cluster which is defined earlier\n",
        "print(len(label_vendor_cu),len(label_vendor_mortgages),len(label_vendor_banks),len(label_vendor_balanced),len(label_wells))"
      ],
      "execution_count": 39,
      "outputs": [
        {
          "output_type": "stream",
          "text": [
            "10 10 10 10 10\n"
          ],
          "name": "stdout"
        }
      ]
    },
    {
      "cell_type": "code",
      "metadata": {
        "id": "wn_MKAXEhqB9",
        "colab_type": "code",
        "colab": {}
      },
      "source": [
        "# Helper function normalize cluster frequency\n",
        "# Normalize frequency to 100 and assign 0 to count if no document fall in one of the cluster\n",
        "\n",
        "# k: number of clusters, int\n",
        "# c_count:cluster counts, numpy array\n",
        "# c_label:cluster labels, numpy arrary\n",
        "# return: normalized count in each cluster, numpy array, shape=(k,)\n",
        "\n",
        "def normalize(c_count,c_label, k):\n",
        "  result=np.zeros(k)\n",
        "  for i in range(len(c_label)):\n",
        "    result[c_label[i]]=c_count[i]\n",
        "  result=result/np.sum(result)\n",
        "  return result"
      ],
      "execution_count": 40,
      "outputs": []
    },
    {
      "cell_type": "code",
      "metadata": {
        "id": "2tGgEfYzzC8A",
        "colab_type": "code",
        "colab": {}
      },
      "source": [
        "# Apply normalize function to all dataset\n",
        "percent_cu=normalize(count_vendor_cu,label_vendor_cu,num_clusters)\n",
        "percent_mortgages=normalize(count_vendor_mortgages,label_vendor_mortgages,num_clusters)\n",
        "percent_banks=normalize(count_vendor_banks,label_vendor_banks,num_clusters)\n",
        "percent_balanced=normalize(count_vendor_balanced,label_vendor_balanced,num_clusters)\n",
        "percent_wells=normalize(count_wells,label_wells,num_clusters)"
      ],
      "execution_count": 41,
      "outputs": []
    },
    {
      "cell_type": "code",
      "metadata": {
        "id": "CFN44kk5ioAx",
        "colab_type": "code",
        "colab": {
          "base_uri": "https://localhost:8080/",
          "height": 187
        },
        "outputId": "92f1b467-8d29-42f4-92a4-715eab92745e"
      },
      "source": [
        "# Print normalized result\n",
        "print(percent_cu)\n",
        "print(percent_mortgages)\n",
        "print(percent_banks)\n",
        "print(percent_balanced)\n",
        "print(percent_wells)"
      ],
      "execution_count": 42,
      "outputs": [
        {
          "output_type": "stream",
          "text": [
            "[0.0250109  0.01685557 0.04084932 0.05913978 0.11442895 0.00410491\n",
            " 0.2900138  0.02973336 0.39508864 0.02477477]\n",
            "[0.16666109 0.06791506 0.19518475 0.21952851 0.03557933 0.02163518\n",
            " 0.04945661 0.13827119 0.04704899 0.05871928]\n",
            "[0.06052966 0.23230764 0.08606909 0.09416487 0.02780351 0.23488045\n",
            " 0.04315461 0.12828033 0.03384103 0.05896882]\n",
            "[0.10252954 0.13515974 0.0940744  0.11284026 0.02828884 0.25698031\n",
            " 0.03879212 0.13235886 0.03350547 0.06547046]\n",
            "[0.15698632 0.06188611 0.10077783 0.16487821 0.02941009 0.17753932\n",
            " 0.03792653 0.17799353 0.02827457 0.06432749]\n"
          ],
          "name": "stdout"
        }
      ]
    },
    {
      "cell_type": "code",
      "metadata": {
        "id": "L8mGtf0di5IE",
        "colab_type": "code",
        "colab": {
          "base_uri": "https://localhost:8080/",
          "height": 540
        },
        "outputId": "10604d80-1da0-4c6d-e6d7-aceed2341871"
      },
      "source": [
        "# Graph the cluster result\n",
        "labels = list(range(0,num_clusters))\n",
        "\n",
        "x = np.arange(len(labels))  # the label locations\n",
        "width = 0.1  # the width of the bars\n",
        "\n",
        "fig, ax = plt.subplots(figsize=(16,8))\n",
        "rects1 = ax.bar(x -2*width, percent_cu, width, label='Credit_Unions',color=\"red\")\n",
        "rects2 = ax.bar(x -width, percent_mortgages, width, label='Mortgages',color=\"green\")\n",
        "rects3 = ax.bar(x, percent_banks, width, label='Banks',color=\"blue\")\n",
        "rects4 = ax.bar(x +width, percent_balanced, width, label='Banks',color=\"orange\")\n",
        "rects5 = ax.bar(x +2*width, percent_wells, width, label='Wells',color=\"black\")\n",
        "\n",
        "# Add some text for labels, title and custom x-axis tick labels, etc.\n",
        "ax.set_ylabel('Percentage of data in the cluster',size=16)\n",
        "ax.set_xlabel('Cluster Number',size=16)\n",
        "ax.set_title('Clustering result',size=20)\n",
        "ax.set_xticks(x)\n",
        "ax.set_xticklabels(labels)\n",
        "ax.legend()"
      ],
      "execution_count": 54,
      "outputs": [
        {
          "output_type": "execute_result",
          "data": {
            "text/plain": [
              "<matplotlib.legend.Legend at 0x7f2f949c8e10>"
            ]
          },
          "metadata": {
            "tags": []
          },
          "execution_count": 54
        },
        {
          "output_type": "display_data",
          "data": {
            "image/png": "[encoded data removed]",
            "text/plain": [
              "<Figure size 1152x576 with 1 Axes>"
            ]
          },
          "metadata": {
            "tags": [],
            "needs_background": "light"
          }
        }
      ]
    },
    {
      "cell_type": "code",
      "metadata": {
        "id": "MgN0fBDyfGKw",
        "colab_type": "code",
        "colab": {}
      },
      "source": [
        "score_final_cu=np.sum(np.abs(np.array(percent_cu)-np.array(percent_wells)))/num_clusters*100\n",
        "score_final_mortgages=np.sum(np.abs(np.array(percent_mortgages)-np.array(percent_wells)))/num_clusters*100\n",
        "score_final_banks=np.sum(np.abs(np.array(percent_banks)-np.array(percent_wells)))/num_clusters*100\n",
        "score_final_balanced=np.sum(np.abs(np.array(percent_balanced)-np.array(percent_wells)))/num_clusters*100"
      ],
      "execution_count": 48,
      "outputs": []
    },
    {
      "cell_type": "code",
      "metadata": {
        "id": "0m71bE4qxj4P",
        "colab_type": "code",
        "colab": {
          "base_uri": "https://localhost:8080/",
          "height": 34
        },
        "outputId": "3c2d0dd0-63d8-4fd3-bb00-6744bd20913f"
      },
      "source": [
        "print(score_final_cu,score_final_mortgages,score_final_banks,score_final_balanced)"
      ],
      "execution_count": 49,
      "outputs": [
        {
          "output_type": "stream",
          "text": [
            "14.078403798989125 4.024693651055515 4.771144142299815 3.199081700767821\n"
          ],
          "name": "stdout"
        }
      ]
    }
  ]
}
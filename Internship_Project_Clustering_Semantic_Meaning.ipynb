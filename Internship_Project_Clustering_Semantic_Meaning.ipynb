{
  "nbformat": 4,
  "nbformat_minor": 0,
  "metadata": {
    "colab": {
      "name": "Internship Project Clustering Semantic Meaning.ipynb",
      "provenance": [],
      "collapsed_sections": [],
      "machine_shape": "hm"
    },
    "kernelspec": {
      "name": "python3",
      "display_name": "Python 3"
    }
  },
  "cells": [
    {
      "cell_type": "code",
      "metadata": {
        "id": "T2K9umuQiJ3K",
        "colab_type": "code",
        "colab": {
          "base_uri": "https://localhost:8080/",
          "height": 71
        },
        "outputId": "d231fb70-d66a-4a8b-f638-20288900bdcc"
      },
      "source": [
        "import numpy as np\n",
        "import nltk\n",
        "import pandas as pd\n",
        "import collections\n",
        "from absl import logging\n",
        "import tensorflow as tf\n",
        "import tensorflow_hub as hub\n",
        "import matplotlib.pyplot as plt\n",
        "import os\n",
        "import re\n",
        "import seaborn as sns"
      ],
      "execution_count": 1,
      "outputs": [
        {
          "output_type": "stream",
          "text": [
            "/usr/local/lib/python3.6/dist-packages/statsmodels/tools/_testing.py:19: FutureWarning: pandas.util.testing is deprecated. Use the functions in the public API at pandas.testing instead.\n",
            "  import pandas.util.testing as tm\n"
          ],
          "name": "stderr"
        }
      ]
    },
    {
      "cell_type": "code",
      "metadata": {
        "id": "BO0N4V3zpR4A",
        "colab_type": "code",
        "colab": {
          "base_uri": "https://localhost:8080/",
          "height": 34
        },
        "outputId": "aae86910-2ef7-438c-e570-fb0df47bb322"
      },
      "source": [
        "from google.colab import drive\n",
        "drive.mount(\"/content/drive/\")\n",
        "df = pd.read_csv(\"/content/drive/My Drive/NLP summer Internship/Cleanned_Complaints.csv\")"
      ],
      "execution_count": 2,
      "outputs": [
        {
          "output_type": "stream",
          "text": [
            "Drive already mounted at /content/drive/; to attempt to forcibly remount, call drive.mount(\"/content/drive/\", force_remount=True).\n"
          ],
          "name": "stdout"
        }
      ]
    },
    {
      "cell_type": "code",
      "metadata": {
        "id": "JuZYA1sziHlf",
        "colab_type": "code",
        "colab": {}
      },
      "source": [
        "# Load pretrained model - google universal sentence encoder\n",
        "module_url = \"https://tfhub.dev/google/universal-sentence-encoder/4\" \n",
        "model = hub.load(module_url)\n",
        "def embed(input):\n",
        "  return model(input)"
      ],
      "execution_count": 3,
      "outputs": []
    },
    {
      "cell_type": "code",
      "metadata": {
        "id": "4LzC2yuaKd6y",
        "colab_type": "code",
        "colab": {}
      },
      "source": [
        "#Seperate out Wellsfargo testset, remove null\n",
        "df_wells=df[df[\"Company\"]==\"WELLS FARGO & COMPANY\"]\n",
        "credit_unions=[\"EQUIFAX, INC.\",\"TRANSUNION INTERMEDIATE HOLDINGS, INC.\"]\n",
        "banks=[\"CITIBANK, N.A.\",\"BANK OF AMERICA, NATIONAL ASSOCIATION\",\"JPMORGAN CHASE & CO.\",\"U.S. BANCORP\"]\n",
        "mortgages=[\"Ocwen Financial Corporation\",\"NATIONSTAR MORTGAGE\"]\n",
        "df_cu=df[df[\"Company\"].isin(credit_unions)]\n",
        "df_banks=df[df[\"Company\"].isin(banks)]\n",
        "df_mortgages=df[df[\"Company\"].isin(mortgages)]\n",
        "df_cu=df_cu.dropna()\n",
        "df_banks=df_banks.dropna()\n",
        "df_mortgages=df_mortgages.dropna()"
      ],
      "execution_count": 4,
      "outputs": []
    },
    {
      "cell_type": "code",
      "metadata": {
        "id": "tfzJL4B3iZ7b",
        "colab_type": "code",
        "colab": {}
      },
      "source": [
        "# Get corpus and check size\n",
        "cu_complaint=df_cu[\"Complaint_reduced\"]\n",
        "banks_complaint=df_banks[\"Complaint_reduced\"]\n",
        "mortgages_complaint=df_mortgages[\"Complaint_reduced\"]\n",
        "wells_complaint=df_wells[\"Complaint_reduced\"]\n",
        "n_cu=len(cu_complaint)\n",
        "n_banks=len(banks_complaint)\n",
        "n_mortgages=len(mortgages_complaint)\n",
        "n_wells=len(wells_complaint)"
      ],
      "execution_count": 5,
      "outputs": []
    },
    {
      "cell_type": "code",
      "metadata": {
        "id": "8Rfqpar3RkjB",
        "colab_type": "code",
        "colab": {
          "base_uri": "https://localhost:8080/",
          "height": 85
        },
        "outputId": "6579f9dd-6390-4891-dc35-3a2f49362d62"
      },
      "source": [
        "# Coding block to calculate pairwise similarity matrix\n",
        "# This will take 10 minutes to embed and require around 15G memory\n",
        "print(\"now embedding wells dataset\")\n",
        "# Embedding wells dataset\n",
        "wells_embed=embed(wells_complaint)\n",
        "\n",
        "print(\"now embedding cu dataset\")\n",
        "# Embedding cu dataset\n",
        "cu_embed1=embed(cu_complaint[0:60000])\n",
        "cu_embed2=embed(cu_complaint[60000:])\n",
        "cu_embed=np.concatenate((cu_embed1,cu_embed2),axis=0)\n",
        "del(cu_embed1)\n",
        "del(cu_embed2)\n",
        "\n",
        "print(\"now embedding mortgages dataset\")\n",
        "# Embedding mortgages dataset\n",
        "mortgages_embed=embed(mortgages_complaint)\n",
        "\n",
        "print(\"now embedding banks dataset\")\n",
        "# Embedding banks dataset\n",
        "banks_embed1=embed(banks_complaint[0:30000])\n",
        "banks_embed2=embed(banks_complaint[30000:])\n",
        "banks_embed=np.concatenate((banks_embed1,banks_embed2),axis=0)\n",
        "del(banks_embed1)\n",
        "del(banks_embed2)\n"
      ],
      "execution_count": 6,
      "outputs": [
        {
          "output_type": "stream",
          "text": [
            "now embedding wells dataset\n",
            "now embedding cu dataset\n",
            "now embedding mortgages dataset\n",
            "now embedding banks dataset\n"
          ],
          "name": "stdout"
        }
      ]
    },
    {
      "cell_type": "markdown",
      "metadata": {
        "id": "y3V28RcBOx1B",
        "colab_type": "text"
      },
      "source": [
        "Together"
      ]
    },
    {
      "cell_type": "code",
      "metadata": {
        "id": "q5QsLkD1OzMD",
        "colab_type": "code",
        "colab": {
          "base_uri": "https://localhost:8080/",
          "height": 34
        },
        "outputId": "03c23d94-c168-48c6-aa27-17218d7f4643"
      },
      "source": [
        "#Concatenate all datasets(all vendors+ test sets together, depend on which embedding is used)\n",
        "#SVD dimension reduction\n",
        "from sklearn.decomposition import TruncatedSVD\n",
        "together=np.concatenate((cu_embed,mortgages_embed,banks_embed,wells_embed),axis=0)\n",
        "svd = TruncatedSVD(n_components=100, n_iter=10, random_state=0)\n",
        "svd.fit(together)\n",
        "#check variance_ratio recommend above 80%\n",
        "print(svd.explained_variance_ratio_.sum())"
      ],
      "execution_count": 7,
      "outputs": [
        {
          "output_type": "stream",
          "text": [
            "0.8001331\n"
          ],
          "name": "stdout"
        }
      ]
    },
    {
      "cell_type": "code",
      "metadata": {
        "id": "QfiPaKKNPpOg",
        "colab_type": "code",
        "colab": {
          "base_uri": "https://localhost:8080/",
          "height": 34
        },
        "outputId": "4e30e322-9e1f-43bb-b9f9-9d6d41d0aa39"
      },
      "source": [
        "#check matrix dimension after svd\n",
        "together_reduced=svd.transform(together)\n",
        "together_reduced.shape"
      ],
      "execution_count": 8,
      "outputs": [
        {
          "output_type": "execute_result",
          "data": {
            "text/plain": [
              "(203746, 100)"
            ]
          },
          "metadata": {
            "tags": []
          },
          "execution_count": 8
        }
      ]
    },
    {
      "cell_type": "code",
      "metadata": {
        "id": "Ac6vXGF3PP9H",
        "colab_type": "code",
        "colab": {
          "base_uri": "https://localhost:8080/",
          "height": 34
        },
        "outputId": "90a25e08-7642-4416-a49c-eeed84647878"
      },
      "source": [
        "#Check elbow graph to pick clusters (heuristic)\n",
        "from sklearn.cluster import KMeans\n",
        "from sklearn.metrics import silhouette_score\n",
        "from sklearn import metrics \n",
        "from scipy.spatial.distance import cdist\n",
        "import progressbar\n",
        "from time import sleep\n",
        "\n",
        "#maximum cluster number to be checked by elbow method, this can be changed, minimum is 2\n",
        "number_of_cluster_range=20 \n",
        "#progress bar\n",
        "bar = progressbar.ProgressBar(maxval=number_of_cluster_range, \\\n",
        "    widgets=[progressbar.Bar('=', '[', ']'), ' ', progressbar.Percentage()])\n",
        "bar.start()\n",
        "#Compile elbow graph\n",
        "axis=[]\n",
        "elbow=[]\n",
        "for i in range(2,number_of_cluster_range+1):\n",
        "  KmeansModel = KMeans(n_clusters=i, random_state=0)\n",
        "  Preds=KmeansModel.fit_predict(together_reduced)\n",
        "  axis.append(i)\n",
        "  elbow.append(KmeansModel.inertia_)\n",
        "  bar.update(i)\n",
        "bar.finish()"
      ],
      "execution_count": 9,
      "outputs": [
        {
          "output_type": "stream",
          "text": [
            "[========================================================================] 100%\n"
          ],
          "name": "stderr"
        }
      ]
    },
    {
      "cell_type": "code",
      "metadata": {
        "id": "GVvUQX26SnpJ",
        "colab_type": "code",
        "colab": {
          "base_uri": "https://localhost:8080/",
          "height": 295
        },
        "outputId": "069d5586-5aa9-4e2a-df3f-0385c6641345"
      },
      "source": [
        "#Plot Elbow graph\n",
        "plt.plot(axis, elbow, 'bx-') \n",
        "plt.title('Values of K') \n",
        "plt.xlabel('Values of K') \n",
        "plt.ylabel('Distortion') \n",
        "plt.title('Sum of squared distance') \n",
        "plt.show() "
      ],
      "execution_count": 10,
      "outputs": [
        {
          "output_type": "display_data",
          "data": {
            "image/png": "[encoded data removed]",
            "text/plain": [
              "<Figure size 432x288 with 1 Axes>"
            ]
          },
          "metadata": {
            "tags": [],
            "needs_background": "light"
          }
        }
      ]
    },
    {
      "cell_type": "code",
      "metadata": {
        "id": "O9nh5mbySqk2",
        "colab_type": "code",
        "colab": {}
      },
      "source": [
        "# Choose n_clusters using elbow method, if the dataset is small, silhouette graph could be used\n",
        "KmeansModel = KMeans(n_clusters=11, random_state=0)\n",
        "Preds=KmeansModel.fit_predict(together_reduced)"
      ],
      "execution_count": 11,
      "outputs": []
    },
    {
      "cell_type": "code",
      "metadata": {
        "id": "OpoxO06eSzZF",
        "colab_type": "code",
        "colab": {}
      },
      "source": [
        "# Assign cluster numbers to each of the document in all datasets\n",
        "cu_wells_vendor_label=Preds[0:n_cu]\n",
        "mortgages_wells_vendor_label=Preds[n_cu:n_mortgages+n_cu]\n",
        "banks_wells_vendor_label=Preds[n_mortgages+n_cu:n_mortgages+n_cu+n_banks]\n",
        "wells_label=Preds[n_mortgages+n_cu+n_banks:]"
      ],
      "execution_count": 20,
      "outputs": []
    },
    {
      "cell_type": "code",
      "metadata": {
        "id": "psUV-nNDZDfz",
        "colab_type": "code",
        "colab": {}
      },
      "source": [
        "# Extract the frequency and label for each clusters for the vendors and Wells Fargo dataset\n",
        "label_vendor_cu,count_vendor_cu=np.unique(cu_wells_vendor_label,return_counts=True)\n",
        "label_vendor_mortgages,count_vendor_mortgages=np.unique(mortgages_wells_vendor_label,return_counts=True)\n",
        "label_vendor_banks,count_vendor_banks=np.unique(banks_wells_vendor_label,return_counts=True)\n",
        "label_wells,count_wells=np.unique(wells_label,return_counts=True)"
      ],
      "execution_count": 21,
      "outputs": []
    },
    {
      "cell_type": "code",
      "metadata": {
        "id": "LG-Nv0TxgB3G",
        "colab_type": "code",
        "colab": {
          "base_uri": "https://localhost:8080/",
          "height": 34
        },
        "outputId": "c8853895-16ec-4d6f-b73a-6beed3e24208"
      },
      "source": [
        "# Check laebels, avoid zero in cluster [if it is zero then the label of the cluster will not show up in that dataset.]\n",
        "print(label_vendor_cu,label_vendor_mortgages,label_vendor_banks,label_wells)"
      ],
      "execution_count": 23,
      "outputs": [
        {
          "output_type": "stream",
          "text": [
            "[ 0  1  2  3  4  5  6  7  8  9 10] [0 1 2 3 4 5 6 7 8 9] [ 0  1  2  3  4  5  6  7  8  9 10] [ 0  1  2  3  4  5  6  7  8  9 10]\n"
          ],
          "name": "stdout"
        }
      ]
    },
    {
      "cell_type": "code",
      "metadata": {
        "id": "wn_MKAXEhqB9",
        "colab_type": "code",
        "colab": {}
      },
      "source": [
        "# Helper function normalize cluster frequency\n",
        "# Normalize frequency to 100 and assign 0 to count if no document fall in one of the cluster\n",
        "\n",
        "# k: number of clusters, int\n",
        "# c_count:cluster counts, numpy array\n",
        "# c_label:cluster labels, numpy arrary\n",
        "# return: normalized count in each cluster, numpy array, shape=(k,)\n",
        "\n",
        "def normalize(c_count,c_label, k):\n",
        "  result=np.zeros(k)\n",
        "  for i in range(len(c_label)):\n",
        "    result[c_label[i]]=c_count[i]\n",
        "  result=result/np.sum(result)*100\n",
        "  return result"
      ],
      "execution_count": 24,
      "outputs": []
    },
    {
      "cell_type": "code",
      "metadata": {
        "id": "2tGgEfYzzC8A",
        "colab_type": "code",
        "colab": {}
      },
      "source": [
        "# Apply normalize function to all dataset\n",
        "percent_cu=normalize(count_vendor_cu,label_vendor_cu,11)\n",
        "percent_mortgages=normalize(count_vendor_mortgages,label_vendor_mortgages,11)\n",
        "percent_banks=normalize(count_vendor_banks,label_vendor_banks,11)\n",
        "percent_wells=normalize(count_wells,label_wells,11)"
      ],
      "execution_count": 26,
      "outputs": []
    },
    {
      "cell_type": "code",
      "metadata": {
        "id": "CFN44kk5ioAx",
        "colab_type": "code",
        "colab": {
          "base_uri": "https://localhost:8080/",
          "height": 153
        },
        "outputId": "2db0e94e-dee4-452a-b303-ff4a44f28195"
      },
      "source": [
        "# Print normalized result\n",
        "print(percent_cu)\n",
        "print(percent_mortgages)\n",
        "print(percent_banks)\n",
        "print(percent_wells)"
      ],
      "execution_count": 27,
      "outputs": [
        {
          "output_type": "stream",
          "text": [
            "[16.45922986  1.57789402 18.79729602 18.76980957  2.93417854 12.38436365\n",
            "  2.67649307  0.29547934  7.78553697  4.859089   13.46062996]\n",
            "[ 5.98733955  0.14067171  1.21329348  1.80235625 11.30648848  0.56268683\n",
            " 51.80235625  1.00228592  2.5496747  23.63284684  0.        ]\n",
            "[ 3.14401797 26.96243979  2.60401488  2.82344471  9.0891948   2.15486946\n",
            " 13.0183601  28.07158898  2.34515626  9.6617695   0.12514357]\n",
            "[ 2.54852991  6.7658077   2.3725735   2.4123056  10.54603247  1.78794415\n",
            " 37.57520717 22.60756045  2.38960154 10.83550914  0.15892837]\n"
          ],
          "name": "stdout"
        }
      ]
    },
    {
      "cell_type": "code",
      "metadata": {
        "id": "L8mGtf0di5IE",
        "colab_type": "code",
        "colab": {
          "base_uri": "https://localhost:8080/",
          "height": 516
        },
        "outputId": "b64dc56d-b215-4c73-c682-80f57fdfcc0e"
      },
      "source": [
        "# Graph the cluster result\n",
        "labels = [\"Cluster0\",\"Cluster1\",\"Cluster2\",\"Cluster3\",\"Cluster4\",\"Cluster5\",\"Cluster6\",\"Cluster7\",\"Cluster8\",\"Cluster9\",\"Cluster10\"]\n",
        "\n",
        "x = np.arange(len(labels))  # the label locations\n",
        "width = 0.1  # the width of the bars\n",
        "\n",
        "fig, ax = plt.subplots(figsize=(16,8))\n",
        "rects1 = ax.bar(x -2*width, percent_cu, width, label='CU',color=\"red\")\n",
        "rects2 = ax.bar(x -width, percent_mortgages, width, label='Mortgages',color=\"green\")\n",
        "rects3 = ax.bar(x, percent_banks, width, label='Banks',color=\"blue\")\n",
        "rects4 = ax.bar(x +width, percent_wells, width, label='Wells',color=\"orange\")\n",
        "\n",
        "# Add some text for labels, title and custom x-axis tick labels, etc.\n",
        "ax.set_ylabel('Scores')\n",
        "ax.set_title('Clustering result')\n",
        "ax.set_xticks(x)\n",
        "ax.set_xticklabels(labels)\n",
        "ax.legend()"
      ],
      "execution_count": 29,
      "outputs": [
        {
          "output_type": "execute_result",
          "data": {
            "text/plain": [
              "<matplotlib.legend.Legend at 0x7f7e92762e10>"
            ]
          },
          "metadata": {
            "tags": []
          },
          "execution_count": 29
        },
        {
          "output_type": "display_data",
          "data": {
            "image/png": "[encoded data removed]",
            "text/plain": [
              "<Figure size 1152x576 with 1 Axes>"
            ]
          },
          "metadata": {
            "tags": [],
            "needs_background": "light"
          }
        }
      ]
    },
    {
      "cell_type": "code",
      "metadata": {
        "id": "MgN0fBDyfGKw",
        "colab_type": "code",
        "colab": {
          "base_uri": "https://localhost:8080/",
          "height": 68
        },
        "outputId": "cef18dba-7096-4c99-c8d9-082a2942493e"
      },
      "source": [
        "from scipy.stats import chisquare\n",
        "print(chisquare(percent_cu,f_exp=percent_wells))\n",
        "print(chisquare(percent_mortgages,f_exp=percent_wells))\n",
        "print(chisquare(percent_banks,f_exp=percent_wells))"
      ],
      "execution_count": 30,
      "outputs": [
        {
          "output_type": "stream",
          "text": [
            "Power_divergenceResult(statistic=1556.0400765984089, pvalue=0.0)\n",
            "Power_divergenceResult(statistic=54.06092463701522, pvalue=4.727111531470431e-08)\n",
            "Power_divergenceResult(statistic=78.30196651906203, pvalue=1.079408564040599e-12)\n"
          ],
          "name": "stdout"
        }
      ]
    },
    {
      "cell_type": "markdown",
      "metadata": {
        "id": "U-8CNVTEHqwu",
        "colab_type": "text"
      },
      "source": [
        "Test other random seeds and cluster numbers"
      ]
    },
    {
      "cell_type": "code",
      "metadata": {
        "id": "UWN7xecnfZs6",
        "colab_type": "code",
        "colab": {
          "base_uri": "https://localhost:8080/",
          "height": 516
        },
        "outputId": "9df3b6fd-ae9c-45b7-d668-a9bf72c0bbb6"
      },
      "source": [
        "# Same code as above, allow customize of random see and clusters to test out different result\n",
        "random_seed=5\n",
        "num_clusters=15\n",
        "\n",
        "KmeansModel = KMeans(n_clusters=num_clusters, random_state=random_seed)\n",
        "Preds=KmeansModel.fit_predict(together_reduced)\n",
        "# Assign cluster numbers to each of the document in all datasets\n",
        "cu_wells_vendor_label=Preds[0:n_cu]\n",
        "mortgages_wells_vendor_label=Preds[n_cu:n_mortgages+n_cu]\n",
        "banks_wells_vendor_label=Preds[n_mortgages+n_cu:n_mortgages+n_cu+n_banks]\n",
        "wells_label=Preds[n_mortgages+n_cu+n_banks:]\n",
        "# Extract the frequency and label for each clusters for the vendors and Wells Fargo dataset\n",
        "label_vendor_cu,count_vendor_cu=np.unique(cu_wells_vendor_label,return_counts=True)\n",
        "label_vendor_mortgages,count_vendor_mortgages=np.unique(mortgages_wells_vendor_label,return_counts=True)\n",
        "label_vendor_banks,count_vendor_banks=np.unique(banks_wells_vendor_label,return_counts=True)\n",
        "label_wells,count_wells=np.unique(wells_label,return_counts=True)\n",
        "percent_cu=normalize(count_vendor_cu,label_vendor_cu,num_clusters)\n",
        "percent_mortgages=normalize(count_vendor_mortgages,label_vendor_mortgages,num_clusters)\n",
        "percent_banks=normalize(count_vendor_banks,label_vendor_banks,num_clusters)\n",
        "percent_wells=normalize(count_wells,label_wells,num_clusters)\n",
        "\n",
        "# Graph the cluster result\n",
        "# Compile bin tickers\n",
        "labels=[]\n",
        "for i in range(0,num_clusters):\n",
        "  temp_string=\"Cluster\"+str(i)\n",
        "  labels.append(temp_string)\n",
        "\n",
        "x = np.arange(len(labels))  # the label locations\n",
        "width = 0.1  # the width of the bars\n",
        "\n",
        "fig, ax = plt.subplots(figsize=(16,8))\n",
        "rects1 = ax.bar(x -2*width, percent_cu, width, label='CU',color=\"red\")\n",
        "rects2 = ax.bar(x -width, percent_mortgages, width, label='Mortgages',color=\"green\")\n",
        "rects3 = ax.bar(x, percent_banks, width, label='Banks',color=\"blue\")\n",
        "rects4 = ax.bar(x +width, percent_wells, width, label='Wells',color=\"orange\")\n",
        "\n",
        "# Add some text for labels, title and custom x-axis tick labels, etc.\n",
        "ax.set_ylabel('Scores')\n",
        "ax.set_title('Clustering result')\n",
        "ax.set_xticks(x)\n",
        "ax.set_xticklabels(labels)\n",
        "ax.legend()"
      ],
      "execution_count": 40,
      "outputs": [
        {
          "output_type": "execute_result",
          "data": {
            "text/plain": [
              "<matplotlib.legend.Legend at 0x7f7e91fd7e80>"
            ]
          },
          "metadata": {
            "tags": []
          },
          "execution_count": 40
        },
        {
          "output_type": "display_data",
          "data": {
            "image/png": "[encoded data removed]",
            "text/plain": [
              "<Figure size 1152x576 with 1 Axes>"
            ]
          },
          "metadata": {
            "tags": [],
            "needs_background": "light"
          }
        }
      ]
    },
    {
      "cell_type": "code",
      "metadata": {
        "id": "1clsr-skIHnX",
        "colab_type": "code",
        "colab": {
          "base_uri": "https://localhost:8080/",
          "height": 68
        },
        "outputId": "3ccf69d6-a8d3-4e57-ddd6-7ea49659fb69"
      },
      "source": [
        "from scipy.stats import chisquare\n",
        "print(chisquare(percent_cu,f_exp=percent_wells))\n",
        "print(chisquare(percent_mortgages,f_exp=percent_wells))\n",
        "print(chisquare(percent_banks,f_exp=percent_wells))"
      ],
      "execution_count": 41,
      "outputs": [
        {
          "output_type": "stream",
          "text": [
            "Power_divergenceResult(statistic=3793.4975621204626, pvalue=0.0)\n",
            "Power_divergenceResult(statistic=51.63880207590379, pvalue=3.2367015025611733e-06)\n",
            "Power_divergenceResult(statistic=79.43046677073757, pvalue=3.60820815341486e-11)\n"
          ],
          "name": "stdout"
        }
      ]
    }
  ]
}
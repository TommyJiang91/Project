{
  "nbformat": 4,
  "nbformat_minor": 0,
  "metadata": {
    "colab": {
      "name": "Internship Project Testing.ipynb",
      "provenance": [],
      "collapsed_sections": [],
      "machine_shape": "hm"
    },
    "kernelspec": {
      "name": "python3",
      "display_name": "Python 3"
    }
  },
  "cells": [
    {
      "cell_type": "code",
      "metadata": {
        "id": "XWmXf6pzqctV",
        "colab_type": "code",
        "colab": {
          "base_uri": "https://localhost:8080/",
          "height": 122
        },
        "outputId": "30c8657b-8a88-4ba7-9c7e-be30642b2376"
      },
      "source": [
        "# import os\n",
        "# import re\n",
        "import numpy as np\n",
        "import nltk\n",
        "import pandas as pd\n",
        "import collections\n",
        "import matplotlib.pyplot as plt\n",
        "import collections\n",
        "import tensorflow as tf\n",
        "import tensorflow_hub as hub\n",
        "from google.colab import drive\n",
        "drive.mount(\"/content/drive/\")\n",
        "df=pd.read_csv(\"drive/My Drive/NLP summer Internship/Cleanned_Complaints.csv\")"
      ],
      "execution_count": null,
      "outputs": [
        {
          "output_type": "stream",
          "text": [
            "Go to this URL in a browser: https://accounts.google.com/o/oauth2/auth?client_id=947318989803-6bn6qk8qdgf4n4g3pfee6491hc0brc4i.apps.googleusercontent.com&redirect_uri=urn%3aietf%3awg%3aoauth%3a2.0%3aoob&response_type=code&scope=email%20https%3a%2f%2fwww.googleapis.com%2fauth%2fdocs.test%20https%3a%2f%2fwww.googleapis.com%2fauth%2fdrive%20https%3a%2f%2fwww.googleapis.com%2fauth%2fdrive.photos.readonly%20https%3a%2f%2fwww.googleapis.com%2fauth%2fpeopleapi.readonly\n",
            "\n",
            "Enter your authorization code:\n",
            "··········\n",
            "Mounted at /content/drive/\n"
          ],
          "name": "stdout"
        }
      ]
    },
    {
      "cell_type": "code",
      "metadata": {
        "id": "-a5bkmV-qlK8",
        "colab_type": "code",
        "colab": {
          "base_uri": "https://localhost:8080/",
          "height": 238
        },
        "outputId": "9e2fc5e1-0926-4f05-9a84-8a9b8cfb3700"
      },
      "source": [
        "# Show label distribution for the whole original dataset\n",
        "df=df[df[\"Label\"]!=\"Other financial service\"]\n",
        "df=df.dropna()\n",
        "df.groupby(\"Label\")[\"Complaint\"].count()"
      ],
      "execution_count": null,
      "outputs": [
        {
          "output_type": "execute_result",
          "data": {
            "text/plain": [
              "Label\n",
              "Bank account or service                                                          14885\n",
              "Checking or savings account                                                      22432\n",
              "Consumer Loan                                                                     9473\n",
              "Credit card or prepaid card                                                      58842\n",
              "Credit reporting, credit repair services, or other personal consumer reports    212844\n",
              "Debt collection                                                                 116674\n",
              "Money transfer, virtual currency, or money service                               10691\n",
              "Mortgage                                                                         66255\n",
              "Payday loan, title loan, or personal loan                                         9189\n",
              "Student loan                                                                     26410\n",
              "Vehicle loan or lease                                                             9486\n",
              "Name: Complaint, dtype: int64"
            ]
          },
          "metadata": {
            "tags": []
          },
          "execution_count": 2
        }
      ]
    },
    {
      "cell_type": "code",
      "metadata": {
        "id": "CmYL3yhyqpLp",
        "colab_type": "code",
        "colab": {}
      },
      "source": [
        "# Prepare three vendor dataset and one test set\n",
        "df_all=df\n",
        "df_wells=df[df[\"Company\"]==\"WELLS FARGO & COMPANY\"]\n",
        "credit_unions=[\"TRANSUNION INTERMEDIATE HOLDINGS, INC.\"]\n",
        "banks=[\"CITIBANK, N.A.\",\"BANK OF AMERICA, NATIONAL ASSOCIATION\",\"JPMORGAN CHASE & CO.\",\"U.S. BANCORP\"]\n",
        "mortgages=[\"Ocwen Financial Corporation\",\"NATIONSTAR MORTGAGE\",\"Ditech Financial LLC\",\"SELECT PORTFOLIO SERVICING, INC.\",\n",
        "           \"Specialized Loan Servicing Holdings LLC\",\"SYNCHRONY FINANCIAL\"]\n",
        "balanced=[\"Santander Consumer USA Holdings Inc.\",\"Ocwen Financial Corporation\",\"BANK OF AMERICA, NATIONAL ASSOCIATION\",\n",
        "          \"JPMORGAN CHASE & CO.\",\"U.S. BANCORP\",\"UNITED SERVICES AUTOMOBILE ASSOCIATION\",\"SUNTRUST BANKS, INC.\",\n",
        "          \"CITIZENS FINANCIAL GROUP, INC.\",\"REGIONS FINANCIAL CORPORATION\"]\n",
        "df_cu=df[df[\"Company\"].isin(credit_unions)]\n",
        "df_banks=df[df[\"Company\"].isin(banks)]\n",
        "df_mortgages=df[df[\"Company\"].isin(mortgages)]\n",
        "df_balanced=df[df[\"Company\"].isin(balanced)]"
      ],
      "execution_count": null,
      "outputs": []
    },
    {
      "cell_type": "code",
      "metadata": {
        "id": "ij_oorZuqsac",
        "colab_type": "code",
        "colab": {}
      },
      "source": [
        "# Corpus of the four dataset\n",
        "cu_complaint=df_cu[\"Complaint_reduced\"]\n",
        "banks_complaint=df_banks[\"Complaint_reduced\"]\n",
        "mortgages_complaint=df_mortgages[\"Complaint_reduced\"]\n",
        "wells_complaint=df_wells[\"Complaint_reduced\"]\n",
        "balanced_complaint=df_balanced[\"Complaint_reduced\"]\n",
        "all_complaint=df_all[\"Complaint_reduced\"]\n",
        "y_wells=df_wells[\"Label\"]\n",
        "y_cu=df_cu[\"Label\"]\n",
        "y_banks=df_banks[\"Label\"]\n",
        "y_mortgages=df_mortgages[\"Label\"]\n",
        "y_balanced=df_balanced[\"Label\"]\n",
        "y_all=df_all[\"Label\"]"
      ],
      "execution_count": null,
      "outputs": []
    },
    {
      "cell_type": "code",
      "metadata": {
        "id": "Dhb7cDuYnHju",
        "colab_type": "code",
        "colab": {
          "base_uri": "https://localhost:8080/",
          "height": 391
        },
        "outputId": "cf4e92a7-943b-46c1-ca5a-9c1eeaa6b5d6"
      },
      "source": [
        "df[df[\"Label\"]==\"Bank account or service\"].groupby(\"Company\")[\"Label\"].count().sort_values(ascending=False)[:20]"
      ],
      "execution_count": null,
      "outputs": [
        {
          "output_type": "execute_result",
          "data": {
            "text/plain": [
              "Company\n",
              "BANK OF AMERICA, NATIONAL ASSOCIATION     2399\n",
              "WELLS FARGO & COMPANY                     1927\n",
              "JPMORGAN CHASE & CO.                      1650\n",
              "CITIBANK, N.A.                            1329\n",
              "U.S. BANCORP                               614\n",
              "PNC Bank N.A.                              551\n",
              "TD BANK US HOLDING COMPANY                 452\n",
              "SUNTRUST BANKS, INC.                       397\n",
              "CAPITAL ONE FINANCIAL CORPORATION          395\n",
              "UNITED SERVICES AUTOMOBILE ASSOCIATION     342\n",
              "Paypal Holdings, Inc                       342\n",
              "CITIZENS FINANCIAL GROUP, INC.             293\n",
              "BB&T CORPORATION                           271\n",
              "REGIONS FINANCIAL CORPORATION              252\n",
              "NAVY FEDERAL CREDIT UNION                  216\n",
              "BBVA FINANCIAL CORPORATION                 195\n",
              "FIFTH THIRD FINANCIAL CORPORATION          175\n",
              "KEYCORP                                    169\n",
              "SCOTTRADE BANK                             164\n",
              "SANTANDER BANK, NATIONAL ASSOCIATION       153\n",
              "Name: Label, dtype: int64"
            ]
          },
          "metadata": {
            "tags": []
          },
          "execution_count": 6
        }
      ]
    },
    {
      "cell_type": "code",
      "metadata": {
        "id": "Y4I3UKl2qtFp",
        "colab_type": "code",
        "colab": {
          "base_uri": "https://localhost:8080/",
          "height": 34
        },
        "outputId": "e4a350e9-0cea-4f32-bd07-117e494aca23"
      },
      "source": [
        "print(cu_complaint.shape,banks_complaint.shape,mortgages_complaint.shape,balanced_complaint.shape,wells_complaint.shape,all_complaint.shape)"
      ],
      "execution_count": null,
      "outputs": [
        {
          "output_type": "stream",
          "text": [
            "(55056,) (58302,) (29905,) (56618,) (17613,) (557181,)\n"
          ],
          "name": "stdout"
        }
      ]
    },
    {
      "cell_type": "code",
      "metadata": {
        "id": "BzNZgth4Nu2e",
        "colab_type": "code",
        "colab": {}
      },
      "source": [
        "# from imblearn.ensemble import BalancedRandomForestClassifier\n",
        "from sklearn.ensemble import RandomForestClassifier\n",
        "from sklearn.metrics import accuracy_score,classification_report\n",
        "from sklearn.feature_extraction.text import CountVectorizer,TfidfVectorizer\n",
        "from xgboost import XGBClassifier"
      ],
      "execution_count": null,
      "outputs": []
    },
    {
      "cell_type": "markdown",
      "metadata": {
        "id": "SEc6dPh2rBeV",
        "colab_type": "text"
      },
      "source": [
        "Count Vectorizer method - RF"
      ]
    },
    {
      "cell_type": "code",
      "metadata": {
        "id": "v-9NcKUaqvmv",
        "colab_type": "code",
        "colab": {
          "base_uri": "https://localhost:8080/",
          "height": 377
        },
        "outputId": "9154143d-d5ad-408d-b6c5-48500871153d"
      },
      "source": [
        "CU_count_vectorizer=CountVectorizer(max_features=2000)\n",
        "X_cu=CU_count_vectorizer.fit_transform(cu_complaint)\n",
        "X_cu_wells=CU_count_vectorizer.transform(wells_complaint)\n",
        "cu_classifier=RandomForestClassifier(max_depth=20,n_estimators=300, random_state=0, n_jobs=-1, class_weight='balanced_subsample')\n",
        "cu_classifier.fit(X_cu, y_cu)\n",
        "cu_predict=cu_classifier.predict(X_cu_wells)\n",
        "print(classification_report(y_wells,cu_predict))"
      ],
      "execution_count": null,
      "outputs": [
        {
          "output_type": "stream",
          "text": [
            "/usr/local/lib/python3.6/dist-packages/sklearn/metrics/_classification.py:1272: UndefinedMetricWarning: Precision and F-score are ill-defined and being set to 0.0 in labels with no predicted samples. Use `zero_division` parameter to control this behavior.\n",
            "  _warn_prf(average, modifier, msg_start, len(result))\n"
          ],
          "name": "stderr"
        },
        {
          "output_type": "stream",
          "text": [
            "                                                                              precision    recall  f1-score   support\n",
            "\n",
            "                                                     Bank account or service       0.00      0.00      0.00      1927\n",
            "                                                 Checking or savings account       0.00      0.00      0.00      2635\n",
            "                                                               Consumer Loan       0.00      0.00      0.00       536\n",
            "                                                 Credit card or prepaid card       0.53      0.03      0.05      1990\n",
            "Credit reporting, credit repair services, or other personal consumer reports       0.08      0.96      0.14      1400\n",
            "                                                             Debt collection       0.38      0.07      0.12       857\n",
            "                          Money transfer, virtual currency, or money service       0.00      0.00      0.00       587\n",
            "                                                                    Mortgage       0.00      0.00      0.00      6547\n",
            "                                   Payday loan, title loan, or personal loan       0.00      0.00      0.00       187\n",
            "                                                                Student loan       0.80      0.01      0.02       501\n",
            "                                                       Vehicle loan or lease       0.00      0.00      0.00       446\n",
            "\n",
            "                                                                    accuracy                           0.08     17613\n",
            "                                                                   macro avg       0.16      0.10      0.03     17613\n",
            "                                                                weighted avg       0.11      0.08      0.02     17613\n",
            "\n"
          ],
          "name": "stdout"
        }
      ]
    },
    {
      "cell_type": "code",
      "metadata": {
        "id": "IsFveLvnrLXp",
        "colab_type": "code",
        "colab": {
          "base_uri": "https://localhost:8080/",
          "height": 323
        },
        "outputId": "4e1bb420-9c1f-46dd-efeb-460a4adb1848"
      },
      "source": [
        "Banks_count_vectorizer=CountVectorizer(max_features=2000)\n",
        "X_banks=Banks_count_vectorizer.fit_transform(banks_complaint)\n",
        "X_banks_wells=Banks_count_vectorizer.transform(wells_complaint)\n",
        "banks_classifier=RandomForestClassifier(max_depth=20,n_estimators=300, random_state=0, n_jobs=-1, class_weight='balanced_subsample')\n",
        "banks_classifier.fit(X_banks, y_banks)\n",
        "banks_predict=banks_classifier.predict(X_banks_wells)\n",
        "accuracy_score(y_wells,banks_predict)\n",
        "print(classification_report(y_wells,banks_predict))"
      ],
      "execution_count": null,
      "outputs": [
        {
          "output_type": "stream",
          "text": [
            "                                                                              precision    recall  f1-score   support\n",
            "\n",
            "                                                     Bank account or service       0.61      0.28      0.38      1927\n",
            "                                                 Checking or savings account       0.61      0.64      0.62      2635\n",
            "                                                               Consumer Loan       0.39      0.14      0.20       536\n",
            "                                                 Credit card or prepaid card       0.62      0.73      0.67      1990\n",
            "Credit reporting, credit repair services, or other personal consumer reports       0.51      0.53      0.52      1400\n",
            "                                                             Debt collection       0.43      0.60      0.50       857\n",
            "                          Money transfer, virtual currency, or money service       0.48      0.70      0.57       587\n",
            "                                                                    Mortgage       0.89      0.93      0.91      6547\n",
            "                                   Payday loan, title loan, or personal loan       1.00      0.01      0.01       187\n",
            "                                                                Student loan       0.78      0.74      0.76       501\n",
            "                                                       Vehicle loan or lease       0.41      0.54      0.47       446\n",
            "\n",
            "                                                                    accuracy                           0.69     17613\n",
            "                                                                   macro avg       0.61      0.53      0.51     17613\n",
            "                                                                weighted avg       0.69      0.69      0.67     17613\n",
            "\n"
          ],
          "name": "stdout"
        }
      ]
    },
    {
      "cell_type": "code",
      "metadata": {
        "id": "VOUo_Ag_rtKF",
        "colab_type": "code",
        "colab": {
          "base_uri": "https://localhost:8080/",
          "height": 377
        },
        "outputId": "23f0a981-2382-400a-a1f2-6b3bf138d011"
      },
      "source": [
        "Mortgages_count_vectorizer=CountVectorizer(max_features=2000)\n",
        "X_mortgages=Mortgages_count_vectorizer.fit_transform(mortgages_complaint)\n",
        "X_mortgages_wells=Mortgages_count_vectorizer.transform(wells_complaint)\n",
        "mortgages_classifier=RandomForestClassifier(max_depth=20,n_estimators=300, random_state=0, n_jobs=-1, class_weight='balanced_subsample')\n",
        "mortgages_classifier.fit(X_mortgages, y_mortgages)\n",
        "mortgages_predict=mortgages_classifier.predict(X_mortgages_wells)\n",
        "print(classification_report(y_wells,mortgages_predict))"
      ],
      "execution_count": null,
      "outputs": [
        {
          "output_type": "stream",
          "text": [
            "/usr/local/lib/python3.6/dist-packages/sklearn/metrics/_classification.py:1272: UndefinedMetricWarning: Precision and F-score are ill-defined and being set to 0.0 in labels with no predicted samples. Use `zero_division` parameter to control this behavior.\n",
            "  _warn_prf(average, modifier, msg_start, len(result))\n"
          ],
          "name": "stderr"
        },
        {
          "output_type": "stream",
          "text": [
            "                                                                              precision    recall  f1-score   support\n",
            "\n",
            "                                                     Bank account or service       0.35      0.01      0.01      1927\n",
            "                                                 Checking or savings account       0.50      0.02      0.04      2635\n",
            "                                                               Consumer Loan       0.26      0.03      0.05       536\n",
            "                                                 Credit card or prepaid card       0.40      0.77      0.53      1990\n",
            "Credit reporting, credit repair services, or other personal consumer reports       0.46      0.54      0.50      1400\n",
            "                                                             Debt collection       0.31      0.61      0.41       857\n",
            "                          Money transfer, virtual currency, or money service       1.00      0.01      0.01       587\n",
            "                                                                    Mortgage       0.60      0.93      0.73      6547\n",
            "                                   Payday loan, title loan, or personal loan       0.10      0.01      0.01       187\n",
            "                                                                Student loan       0.00      0.00      0.00       501\n",
            "                                                       Vehicle loan or lease       0.00      0.00      0.00       446\n",
            "\n",
            "                                                                    accuracy                           0.51     17613\n",
            "                                                                   macro avg       0.36      0.27      0.21     17613\n",
            "                                                                weighted avg       0.47      0.51      0.40     17613\n",
            "\n"
          ],
          "name": "stdout"
        }
      ]
    },
    {
      "cell_type": "code",
      "metadata": {
        "id": "03ns2QRiL0Vt",
        "colab_type": "code",
        "colab": {
          "base_uri": "https://localhost:8080/",
          "height": 323
        },
        "outputId": "d009e999-1285-4924-f62b-b88c3bb2880d"
      },
      "source": [
        "Balanced_count_vectorizer=CountVectorizer(max_features=2000)\n",
        "X_balanced=Balanced_count_vectorizer.fit_transform(balanced_complaint)\n",
        "X_balanced_wells=Balanced_count_vectorizer.transform(wells_complaint)\n",
        "balanced_classifier=RandomForestClassifier(max_depth=20,n_estimators=300, random_state=0, n_jobs=-1, class_weight='balanced_subsample')\n",
        "balanced_classifier.fit(X_balanced, y_balanced)\n",
        "balanced_predict=balanced_classifier.predict(X_balanced_wells)\n",
        "print(classification_report(y_wells,balanced_predict))"
      ],
      "execution_count": null,
      "outputs": [
        {
          "output_type": "stream",
          "text": [
            "                                                                              precision    recall  f1-score   support\n",
            "\n",
            "                                                     Bank account or service       0.59      0.37      0.45      1927\n",
            "                                                 Checking or savings account       0.63      0.63      0.63      2635\n",
            "                                                               Consumer Loan       0.50      0.18      0.27       536\n",
            "                                                 Credit card or prepaid card       0.65      0.74      0.69      1990\n",
            "Credit reporting, credit repair services, or other personal consumer reports       0.52      0.54      0.53      1400\n",
            "                                                             Debt collection       0.46      0.56      0.50       857\n",
            "                          Money transfer, virtual currency, or money service       0.50      0.69      0.58       587\n",
            "                                                                    Mortgage       0.89      0.92      0.91      6547\n",
            "                                   Payday loan, title loan, or personal loan       0.53      0.04      0.08       187\n",
            "                                                                Student loan       0.79      0.71      0.75       501\n",
            "                                                       Vehicle loan or lease       0.38      0.66      0.48       446\n",
            "\n",
            "                                                                    accuracy                           0.70     17613\n",
            "                                                                   macro avg       0.59      0.55      0.53     17613\n",
            "                                                                weighted avg       0.70      0.70      0.69     17613\n",
            "\n"
          ],
          "name": "stdout"
        }
      ]
    },
    {
      "cell_type": "code",
      "metadata": {
        "id": "kJ0JDxjMrvkm",
        "colab_type": "code",
        "colab": {}
      },
      "source": [
        "All_count_vectorizer=CountVectorizer(max_features=2000)\n",
        "X_all=All_count_vectorizer.fit_transform(all_complaint)\n",
        "X_all_wells=All_count_vectorizer.transform(wells_complaint)"
      ],
      "execution_count": null,
      "outputs": []
    },
    {
      "cell_type": "code",
      "metadata": {
        "id": "SZU-s8cAM63x",
        "colab_type": "code",
        "colab": {
          "base_uri": "https://localhost:8080/",
          "height": 323
        },
        "outputId": "3bb2c866-7a8a-49b3-fc30-f2aa355ebf12"
      },
      "source": [
        "all_classifier=RandomForestClassifier(max_depth=20,n_estimators=300, random_state=0, n_jobs=-1, class_weight='balanced_subsample')\n",
        "all_classifier.fit(X_all, y_all)\n",
        "all_predict=all_classifier.predict(X_all_wells)\n",
        "print(classification_report(y_wells,all_predict))"
      ],
      "execution_count": null,
      "outputs": [
        {
          "output_type": "stream",
          "text": [
            "                                                                              precision    recall  f1-score   support\n",
            "\n",
            "                                                     Bank account or service       0.78      0.63      0.70      1927\n",
            "                                                 Checking or savings account       0.78      0.76      0.77      2635\n",
            "                                                               Consumer Loan       0.83      0.59      0.69       536\n",
            "                                                 Credit card or prepaid card       0.73      0.78      0.75      1990\n",
            "Credit reporting, credit repair services, or other personal consumer reports       0.62      0.46      0.53      1400\n",
            "                                                             Debt collection       0.57      0.58      0.57       857\n",
            "                          Money transfer, virtual currency, or money service       0.56      0.84      0.67       587\n",
            "                                                                    Mortgage       0.93      0.92      0.93      6547\n",
            "                                   Payday loan, title loan, or personal loan       0.23      0.63      0.34       187\n",
            "                                                                Student loan       0.80      0.85      0.82       501\n",
            "                                                       Vehicle loan or lease       0.56      0.83      0.67       446\n",
            "\n",
            "                                                                    accuracy                           0.78     17613\n",
            "                                                                   macro avg       0.67      0.71      0.68     17613\n",
            "                                                                weighted avg       0.79      0.78      0.78     17613\n",
            "\n"
          ],
          "name": "stdout"
        }
      ]
    },
    {
      "cell_type": "markdown",
      "metadata": {
        "id": "bsfmkO0GLNV2",
        "colab_type": "text"
      },
      "source": [
        "TFIDF vectorizer - RF"
      ]
    },
    {
      "cell_type": "code",
      "metadata": {
        "id": "AB4qeoD7LDbr",
        "colab_type": "code",
        "colab": {
          "base_uri": "https://localhost:8080/",
          "height": 377
        },
        "outputId": "a7e5eda4-a8af-4f25-c3bc-a89e45c85af6"
      },
      "source": [
        "CU_tfidf_vectorizer=TfidfVectorizer(max_features=2000)\n",
        "X_cu_tfidf=CU_tfidf_vectorizer.fit_transform(cu_complaint)\n",
        "X_cu_wells_tfidf=CU_tfidf_vectorizer.transform(wells_complaint)\n",
        "cu_tfidf_classifier=RandomForestClassifier(max_depth=20,n_estimators=300, random_state=0, n_jobs=-1, class_weight='balanced_subsample')\n",
        "cu_tfidf_classifier.fit(X_cu_tfidf, y_cu)\n",
        "cu_predict_tfidf=cu_tfidf_classifier.predict(X_cu_wells_tfidf)\n",
        "print(classification_report(y_wells,cu_predict_tfidf))"
      ],
      "execution_count": null,
      "outputs": [
        {
          "output_type": "stream",
          "text": [
            "/usr/local/lib/python3.6/dist-packages/sklearn/metrics/_classification.py:1272: UndefinedMetricWarning: Precision and F-score are ill-defined and being set to 0.0 in labels with no predicted samples. Use `zero_division` parameter to control this behavior.\n",
            "  _warn_prf(average, modifier, msg_start, len(result))\n"
          ],
          "name": "stderr"
        },
        {
          "output_type": "stream",
          "text": [
            "                                                                              precision    recall  f1-score   support\n",
            "\n",
            "                                                     Bank account or service       0.00      0.00      0.00      1927\n",
            "                                                 Checking or savings account       0.00      0.00      0.00      2635\n",
            "                                                               Consumer Loan       0.00      0.00      0.00       536\n",
            "                                                 Credit card or prepaid card       0.62      0.02      0.04      1990\n",
            "Credit reporting, credit repair services, or other personal consumer reports       0.08      0.98      0.15      1400\n",
            "                                                             Debt collection       0.63      0.06      0.10       857\n",
            "                          Money transfer, virtual currency, or money service       0.00      0.00      0.00       587\n",
            "                                                                    Mortgage       0.00      0.00      0.00      6547\n",
            "                                   Payday loan, title loan, or personal loan       0.00      0.00      0.00       187\n",
            "                                                                Student loan       1.00      0.00      0.00       501\n",
            "                                                       Vehicle loan or lease       0.00      0.00      0.00       446\n",
            "\n",
            "                                                                    accuracy                           0.08     17613\n",
            "                                                                   macro avg       0.21      0.10      0.03     17613\n",
            "                                                                weighted avg       0.14      0.08      0.02     17613\n",
            "\n"
          ],
          "name": "stdout"
        }
      ]
    },
    {
      "cell_type": "code",
      "metadata": {
        "id": "PcjYuUKcLDeP",
        "colab_type": "code",
        "colab": {
          "base_uri": "https://localhost:8080/",
          "height": 323
        },
        "outputId": "716693d7-2351-4764-93b0-f611657d9853"
      },
      "source": [
        "Banks_tfidf_vectorizer=TfidfVectorizer(max_features=2000)\n",
        "X_banks_tfidf=Banks_tfidf_vectorizer.fit_transform(banks_complaint)\n",
        "X_banks_wells_tfidf=Banks_tfidf_vectorizer.transform(wells_complaint)\n",
        "banks_tfidf_classifier=RandomForestClassifier(max_depth=20,n_estimators=300, random_state=0, n_jobs=-1, class_weight='balanced_subsample')\n",
        "banks_tfidf_classifier.fit(X_banks_tfidf, y_banks)\n",
        "banks_predict_tfidf=banks_tfidf_classifier.predict(X_banks_wells_tfidf)\n",
        "print(classification_report(y_wells,banks_predict_tfidf))"
      ],
      "execution_count": null,
      "outputs": [
        {
          "output_type": "stream",
          "text": [
            "                                                                              precision    recall  f1-score   support\n",
            "\n",
            "                                                     Bank account or service       0.62      0.28      0.39      1927\n",
            "                                                 Checking or savings account       0.60      0.65      0.62      2635\n",
            "                                                               Consumer Loan       0.43      0.11      0.17       536\n",
            "                                                 Credit card or prepaid card       0.64      0.76      0.69      1990\n",
            "Credit reporting, credit repair services, or other personal consumer reports       0.53      0.57      0.55      1400\n",
            "                                                             Debt collection       0.46      0.61      0.53       857\n",
            "                          Money transfer, virtual currency, or money service       0.49      0.72      0.59       587\n",
            "                                                                    Mortgage       0.90      0.93      0.91      6547\n",
            "                                   Payday loan, title loan, or personal loan       0.00      0.00      0.00       187\n",
            "                                                                Student loan       0.80      0.78      0.79       501\n",
            "                                                       Vehicle loan or lease       0.43      0.64      0.52       446\n",
            "\n",
            "                                                                    accuracy                           0.70     17613\n",
            "                                                                   macro avg       0.54      0.55      0.52     17613\n",
            "                                                                weighted avg       0.69      0.70      0.68     17613\n",
            "\n"
          ],
          "name": "stdout"
        }
      ]
    },
    {
      "cell_type": "code",
      "metadata": {
        "id": "jcOBltFILDhd",
        "colab_type": "code",
        "colab": {
          "base_uri": "https://localhost:8080/",
          "height": 377
        },
        "outputId": "0b625e4c-8298-47c4-fc7f-b0b9744d541c"
      },
      "source": [
        "Mortgages_tfidf_vectorizer=TfidfVectorizer(max_features=2000)\n",
        "X_mortgages_tfidf=Mortgages_tfidf_vectorizer.fit_transform(mortgages_complaint)\n",
        "X_mortgages_wells_tfidf=Mortgages_tfidf_vectorizer.transform(wells_complaint)\n",
        "mortgages_tfidf_classifier=RandomForestClassifier(max_depth=20,n_estimators=300, random_state=0, n_jobs=-1, class_weight='balanced_subsample')\n",
        "mortgages_tfidf_classifier.fit(X_mortgages_tfidf, y_mortgages)\n",
        "mortgages_predict_tfidf=mortgages_tfidf_classifier.predict(X_mortgages_wells_tfidf)\n",
        "print(classification_report(y_wells,mortgages_predict_tfidf))"
      ],
      "execution_count": null,
      "outputs": [
        {
          "output_type": "stream",
          "text": [
            "/usr/local/lib/python3.6/dist-packages/sklearn/metrics/_classification.py:1272: UndefinedMetricWarning: Precision and F-score are ill-defined and being set to 0.0 in labels with no predicted samples. Use `zero_division` parameter to control this behavior.\n",
            "  _warn_prf(average, modifier, msg_start, len(result))\n"
          ],
          "name": "stderr"
        },
        {
          "output_type": "stream",
          "text": [
            "                                                                              precision    recall  f1-score   support\n",
            "\n",
            "                                                     Bank account or service       0.39      0.02      0.03      1927\n",
            "                                                 Checking or savings account       0.51      0.01      0.03      2635\n",
            "                                                               Consumer Loan       0.32      0.02      0.03       536\n",
            "                                                 Credit card or prepaid card       0.37      0.79      0.50      1990\n",
            "Credit reporting, credit repair services, or other personal consumer reports       0.48      0.62      0.54      1400\n",
            "                                                             Debt collection       0.34      0.62      0.44       857\n",
            "                          Money transfer, virtual currency, or money service       1.00      0.00      0.01       587\n",
            "                                                                    Mortgage       0.62      0.93      0.74      6547\n",
            "                                   Payday loan, title loan, or personal loan       0.10      0.01      0.01       187\n",
            "                                                                Student loan       0.00      0.00      0.00       501\n",
            "                                                       Vehicle loan or lease       0.00      0.00      0.00       446\n",
            "\n",
            "                                                                    accuracy                           0.52     17613\n",
            "                                                                   macro avg       0.38      0.27      0.21     17613\n",
            "                                                                weighted avg       0.49      0.52      0.41     17613\n",
            "\n"
          ],
          "name": "stdout"
        }
      ]
    },
    {
      "cell_type": "code",
      "metadata": {
        "id": "ptaGy6qIt7io",
        "colab_type": "code",
        "colab": {
          "base_uri": "https://localhost:8080/",
          "height": 323
        },
        "outputId": "22f9165b-790e-4271-d88f-74bfb4cceaa8"
      },
      "source": [
        "Balanced_tfidf_vectorizer=TfidfVectorizer(max_features=2000)\n",
        "X_balanced_tfidf=Balanced_tfidf_vectorizer.fit_transform(balanced_complaint)\n",
        "X_balanced_wells_tfidf=Balanced_tfidf_vectorizer.transform(wells_complaint)\n",
        "balanced_tfidf_classifier=RandomForestClassifier(max_depth=20,n_estimators=300, random_state=0, n_jobs=-1, class_weight='balanced_subsample')\n",
        "balanced_tfidf_classifier.fit(X_balanced_tfidf, y_balanced)\n",
        "balanced_predict_tfidf=balanced_tfidf_classifier.predict(X_balanced_wells_tfidf)\n",
        "print(classification_report(y_wells,balanced_predict_tfidf))"
      ],
      "execution_count": null,
      "outputs": [
        {
          "output_type": "stream",
          "text": [
            "                                                                              precision    recall  f1-score   support\n",
            "\n",
            "                                                     Bank account or service       0.60      0.37      0.46      1927\n",
            "                                                 Checking or savings account       0.62      0.64      0.63      2635\n",
            "                                                               Consumer Loan       0.53      0.19      0.28       536\n",
            "                                                 Credit card or prepaid card       0.65      0.76      0.70      1990\n",
            "Credit reporting, credit repair services, or other personal consumer reports       0.52      0.59      0.55      1400\n",
            "                                                             Debt collection       0.49      0.58      0.53       857\n",
            "                          Money transfer, virtual currency, or money service       0.51      0.67      0.58       587\n",
            "                                                                    Mortgage       0.91      0.92      0.91      6547\n",
            "                                   Payday loan, title loan, or personal loan       0.33      0.04      0.08       187\n",
            "                                                                Student loan       0.85      0.72      0.78       501\n",
            "                                                       Vehicle loan or lease       0.40      0.65      0.49       446\n",
            "\n",
            "                                                                    accuracy                           0.70     17613\n",
            "                                                                   macro avg       0.58      0.56      0.54     17613\n",
            "                                                                weighted avg       0.70      0.70      0.70     17613\n",
            "\n"
          ],
          "name": "stdout"
        }
      ]
    },
    {
      "cell_type": "code",
      "metadata": {
        "id": "-RvlFQWULDkn",
        "colab_type": "code",
        "colab": {}
      },
      "source": [
        "All_tfidf_vectorizer=TfidfVectorizer(max_features=2000)\n",
        "X_all_tfidf=All_tfidf_vectorizer.fit_transform(all_complaint)\n",
        "X_all_wells_tfidf=All_tfidf_vectorizer.transform(wells_complaint)"
      ],
      "execution_count": null,
      "outputs": []
    },
    {
      "cell_type": "code",
      "metadata": {
        "id": "wApdz1-8QJ7K",
        "colab_type": "code",
        "colab": {
          "base_uri": "https://localhost:8080/",
          "height": 323
        },
        "outputId": "158cf349-9068-4b9c-fd80-327be31c7be4"
      },
      "source": [
        "all_tfidf_classifier=RandomForestClassifier(max_depth=20,n_estimators=300, random_state=0, n_jobs=-1, class_weight='balanced_subsample')\n",
        "all_tfidf_classifier.fit(X_all_tfidf, y_all)\n",
        "all_predict_tfidf=all_tfidf_classifier.predict(X_all_wells_tfidf)\n",
        "print(classification_report(y_wells,all_predict_tfidf))"
      ],
      "execution_count": null,
      "outputs": [
        {
          "output_type": "stream",
          "text": [
            "                                                                              precision    recall  f1-score   support\n",
            "\n",
            "                                                     Bank account or service       0.82      0.67      0.74      1927\n",
            "                                                 Checking or savings account       0.79      0.78      0.78      2635\n",
            "                                                               Consumer Loan       0.88      0.64      0.74       536\n",
            "                                                 Credit card or prepaid card       0.74      0.79      0.76      1990\n",
            "Credit reporting, credit repair services, or other personal consumer reports       0.64      0.49      0.56      1400\n",
            "                                                             Debt collection       0.58      0.55      0.57       857\n",
            "                          Money transfer, virtual currency, or money service       0.56      0.82      0.67       587\n",
            "                                                                    Mortgage       0.93      0.92      0.93      6547\n",
            "                                   Payday loan, title loan, or personal loan       0.26      0.65      0.37       187\n",
            "                                                                Student loan       0.81      0.84      0.82       501\n",
            "                                                       Vehicle loan or lease       0.58      0.87      0.70       446\n",
            "\n",
            "                                                                    accuracy                           0.79     17613\n",
            "                                                                   macro avg       0.69      0.73      0.69     17613\n",
            "                                                                weighted avg       0.80      0.79      0.79     17613\n",
            "\n"
          ],
          "name": "stdout"
        }
      ]
    }
  ]
}
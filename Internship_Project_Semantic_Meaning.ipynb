{
  "nbformat": 4,
  "nbformat_minor": 0,
  "metadata": {
    "colab": {
      "name": "Internship Project Semantic Meaning.ipynb",
      "provenance": [],
      "collapsed_sections": [],
      "machine_shape": "hm"
    },
    "kernelspec": {
      "name": "python3",
      "display_name": "Python 3"
    }
  },
  "cells": [
    {
      "cell_type": "code",
      "metadata": {
        "id": "T2K9umuQiJ3K",
        "colab_type": "code",
        "colab": {
          "base_uri": "https://localhost:8080/",
          "height": 51
        },
        "outputId": "7d941de0-6ca1-4053-8142-825a60d31895"
      },
      "source": [
        "import numpy as np\n",
        "import nltk\n",
        "import pandas as pd\n",
        "import collections\n",
        "from absl import logging\n",
        "import tensorflow as tf\n",
        "import tensorflow_hub as hub\n",
        "import matplotlib.pyplot as plt\n",
        "import os\n",
        "import re\n",
        "import seaborn as sns"
      ],
      "execution_count": 1,
      "outputs": [
        {
          "output_type": "stream",
          "text": [
            "/usr/local/lib/python3.6/dist-packages/statsmodels/tools/_testing.py:19: FutureWarning: pandas.util.testing is deprecated. Use the functions in the public API at pandas.testing instead.\n",
            "  import pandas.util.testing as tm\n"
          ],
          "name": "stderr"
        }
      ]
    },
    {
      "cell_type": "code",
      "metadata": {
        "id": "BO0N4V3zpR4A",
        "colab_type": "code",
        "colab": {
          "base_uri": "https://localhost:8080/",
          "height": 34
        },
        "outputId": "336b4b13-198a-4b2d-f9ad-cb0ece4f83bc"
      },
      "source": [
        "from google.colab import drive\n",
        "drive.mount(\"/content/drive/\")\n",
        "df = pd.read_csv(\"/content/drive/My Drive/NLP summer Internship/Cleanned_Complaints.csv\")"
      ],
      "execution_count": 2,
      "outputs": [
        {
          "output_type": "stream",
          "text": [
            "Drive already mounted at /content/drive/; to attempt to forcibly remount, call drive.mount(\"/content/drive/\", force_remount=True).\n"
          ],
          "name": "stdout"
        }
      ]
    },
    {
      "cell_type": "code",
      "metadata": {
        "id": "JuZYA1sziHlf",
        "colab_type": "code",
        "colab": {}
      },
      "source": [
        "# Load pretrained model - google universal sentence encoder\n",
        "module_url = \"https://tfhub.dev/google/universal-sentence-encoder/4\" \n",
        "model = hub.load(module_url)\n",
        "def embed(input):\n",
        "  return model(input)"
      ],
      "execution_count": 3,
      "outputs": []
    },
    {
      "cell_type": "code",
      "metadata": {
        "id": "4LzC2yuaKd6y",
        "colab_type": "code",
        "colab": {}
      },
      "source": [
        "#Seperate out Wellsfargo testset, remove null\n",
        "df_wells=df[df[\"Company\"]==\"WELLS FARGO & COMPANY\"]\n",
        "credit_unions=[\"EQUIFAX, INC.\",\"TRANSUNION INTERMEDIATE HOLDINGS, INC.\"]\n",
        "banks=[\"CITIBANK, N.A.\",\"BANK OF AMERICA, NATIONAL ASSOCIATION\",\"JPMORGAN CHASE & CO.\",\"U.S. BANCORP\"]\n",
        "mortgages=[\"Ocwen Financial Corporation\",\"NATIONSTAR MORTGAGE\"]\n",
        "df_cu=df[df[\"Company\"].isin(credit_unions)]\n",
        "df_banks=df[df[\"Company\"].isin(banks)]\n",
        "df_mortgages=df[df[\"Company\"].isin(mortgages)]\n",
        "df_cu=df_cu.dropna()\n",
        "df_banks=df_banks.dropna()\n",
        "df_mortgages=df_mortgages.dropna()"
      ],
      "execution_count": 4,
      "outputs": []
    },
    {
      "cell_type": "code",
      "metadata": {
        "id": "tfzJL4B3iZ7b",
        "colab_type": "code",
        "colab": {
          "base_uri": "https://localhost:8080/",
          "height": 34
        },
        "outputId": "274f35d2-cf25-4b3f-e84e-d38563a4cb62"
      },
      "source": [
        "# Get corpus and check size\n",
        "cu_complaint=df_cu[\"Complaint_reduced\"]\n",
        "banks_complaint=df_banks[\"Complaint_reduced\"]\n",
        "mortgages_complaint=df_mortgages[\"Complaint_reduced\"]\n",
        "wells_complaint=df_wells[\"Complaint_reduced\"]\n",
        "print(len(cu_complaint),len(banks_complaint),len(mortgages_complaint),len(wells_complaint))"
      ],
      "execution_count": 5,
      "outputs": [
        {
          "output_type": "stream",
          "text": [
            "116421 58333 11374 17618\n"
          ],
          "name": "stdout"
        }
      ]
    },
    {
      "cell_type": "code",
      "metadata": {
        "id": "8Rfqpar3RkjB",
        "colab_type": "code",
        "colab": {
          "base_uri": "https://localhost:8080/",
          "height": 102
        },
        "outputId": "b9f3ec5a-aa02-4932-c3c0-61221259d060"
      },
      "source": [
        "# Coding block to calculate pairwise similarity matrix\n",
        "# This will take 10 minutes to embed and require around 15G memory\n",
        "print(\"now embedding wells dataset\")\n",
        "# Embedding wells dataset\n",
        "wells_embed=embed(wells_complaint)\n",
        "\n",
        "print(\"now embedding cu dataset\")\n",
        "# Embedding cu dataset\n",
        "cu_embed1=embed(cu_complaint[0:60000])\n",
        "cu_embed2=embed(cu_complaint[60000:])\n",
        "cu_embed=np.concatenate((cu_embed1,cu_embed2),axis=0)\n",
        "del(cu_embed1)\n",
        "del(cu_embed2)\n",
        "#pairwise similarity\n",
        "cu_wells_matrix=np.dot(wells_embed,tf.transpose(cu_embed))\n",
        "#delete embedding and keep similarity matrix to save memory\n",
        "del(cu_embed)\n",
        "\n",
        "print(\"now embedding mortgages dataset\")\n",
        "# Embedding mortgages dataset\n",
        "mortgages_embed=embed(mortgages_complaint)\n",
        "#pairwise similarity\n",
        "mortgages_wells_matrix=np.dot(wells_embed,tf.transpose(mortgages_embed))\n",
        "#delete embedding and keep similarity matrix to save memory\n",
        "del(mortgages_embed)\n",
        "\n",
        "print(\"now embedding banks dataset\")\n",
        "# Embedding banks dataset\n",
        "banks_embed1=embed(banks_complaint[0:30000])\n",
        "banks_embed2=embed(banks_complaint[30000:])\n",
        "banks_embed=np.concatenate((banks_embed1,banks_embed2),axis=0)\n",
        "del(banks_embed1)\n",
        "del(banks_embed2)\n",
        "banks_wells_matrix=np.dot(wells_embed,tf.transpose(banks_embed))\n",
        "del(banks_embed)\n",
        "\n",
        "# Check pairwise similarity matrix shapes\n",
        "print(cu_wells_matrix.shape,mortgages_wells_matrix.shape,banks_wells_matrix.shape)"
      ],
      "execution_count": 6,
      "outputs": [
        {
          "output_type": "stream",
          "text": [
            "now embedding wells dataset\n",
            "now embedding cu dataset\n",
            "now embedding mortgages dataset\n",
            "now embedding banks dataset\n",
            "(17618, 116421) (17618, 11374) (17618, 58333)\n"
          ],
          "name": "stdout"
        }
      ]
    },
    {
      "cell_type": "code",
      "metadata": {
        "id": "X4EPyzJ7PDuD",
        "colab_type": "code",
        "colab": {}
      },
      "source": [
        "## Alternate pairwise similarity calculation by blocks to save memory\n",
        "\n",
        "# def score(vendor,doc,v_size,d_size):\n",
        "#   n_vendor=len(vendor)\n",
        "#   n_doc=len(doc)\n",
        "#   blocks_vendor=n_vendor//v_size\n",
        "#   blocks_doc=n_doc//d_size\n",
        "#   result=[]\n",
        "#   for i in range(0,blocks_doc):\n",
        "#     temp_doc=doc[i*d_size:(i+1)*d_size]\n",
        "#     temp_doc_embed=embed(temp_doc)\n",
        "#     temp_result=np.zeros(shape=(d_size,1))\n",
        "#     for j in range(0,blocks_vendor):\n",
        "#       temp_vendor=vendor[j*v_size:(j+1)*v_size]\n",
        "#       temp_vendor_embed=embed(temp_vendor)\n",
        "#       temp=np.inner(temp_doc_embed,temp_vendor_embed).max(axis=1).reshape(d_size,1)\n",
        "#       temp_result=np.concatenate((temp_result,temp),axis=1)\n",
        "#     if n_vendor%v_size!=0:\n",
        "#       remain_vendor_size=n_vendor%v_size\n",
        "#       remain_vendor=vendor[-remain_vendor_size:]\n",
        "#       remain_vendor_embed=embed(remain_vendor)\n",
        "#       temp=np.inner(temp_doc_embed,remain_vendor_embed).max(axis=1).reshape(d_size,1)\n",
        "#       temp_result=np.concatenate((temp_result,temp),axis=1)\n",
        "#     result.append(temp_result.max(axis=1))\n",
        "#     print(f'Now running blocks {i} in {blocks_doc} total blocks')\n",
        "#   if n_doc%d_size!=0:\n",
        "#     remain_doc_size=n_doc%d_size\n",
        "#     remain_doc=doc[-remain_doc_size:]\n",
        "#     remain_doc_embed=embed(remain_doc)\n",
        "#     temp_result=np.zeros(shape=(remain_doc_size,1))\n",
        "#     for j in range(0,blocks_vendor):\n",
        "#       temp_vendor=vendor[j*v_size:(j+1)*v_size]\n",
        "#       temp_vendor_embed=embed(temp_vendor)\n",
        "#       temp=np.inner(remain_doc_embed,temp_vendor_embed).max(axis=1).reshape(remain_doc_size,1)\n",
        "#       temp_result=np.concatenate((temp_result,temp),axis=1)\n",
        "#     if n_vendor%v_size!=0:\n",
        "#       remain_vendor_size=n_vendor%v_size\n",
        "#       remain_vendor=vendor[-remain_vendor_size:]\n",
        "#       remain_vendor_embed=embed(remain_vendor)\n",
        "#       temp=np.inner(remain_doc_embed,remain_vendor_embed).max(axis=1).reshape(remain_doc_size,1)\n",
        "#       temp_result=np.concatenate((temp_result,temp),axis=1)\n",
        "#     result.append(temp_result.max(axis=1))\n",
        "#   output=np.concatenate(result)\n",
        "#   return output"
      ],
      "execution_count": 7,
      "outputs": []
    },
    {
      "cell_type": "code",
      "metadata": {
        "id": "TYy1-tocPDwQ",
        "colab_type": "code",
        "colab": {}
      },
      "source": [
        "## Alternate pairwise similarity calculation by blocks to save memory\n",
        "# cu_wells_top_similarity=score(cu_complaint,wells_complaint,10000,10000)\n",
        "# mortgages_wells_top_similarity=score(mortgages_complaint,wells_complaint,10000,10000)\n",
        "# banks_wells_top_similarity=score(banks_complaint,wells_complaint,10000,10000)"
      ],
      "execution_count": 8,
      "outputs": []
    },
    {
      "cell_type": "markdown",
      "metadata": {
        "id": "jQo-OXBRVwYd",
        "colab_type": "text"
      },
      "source": [
        "Approach 2.1 Similarity score with top N closeset sentence from vendor dataset"
      ]
    },
    {
      "cell_type": "code",
      "metadata": {
        "id": "t3xK-b1CVvVq",
        "colab_type": "code",
        "colab": {
          "base_uri": "https://localhost:8080/",
          "height": 34
        },
        "outputId": "710e1b49-5901-45fd-a3e8-a8f9852f8e80"
      },
      "source": [
        "n_similarity=10 #Do not use n larger than 10 to save memory\n",
        "cu_wells_top_similarity=np.sum(np.partition(cu_wells_matrix, -n_similarity)[:,-n_similarity:],axis=1)/n_similarity\n",
        "mortgages_wells_top_similarity=np.sum(np.partition(mortgages_wells_matrix, -n_similarity)[:,-n_similarity:],axis=1)/n_similarity\n",
        "banks_wells_top_similarity=np.sum(np.partition(banks_wells_matrix, -n_similarity)[:,-n_similarity:],axis=1)/n_similarity\n",
        "print(cu_wells_top_similarity.shape,mortgages_wells_top_similarity.shape,banks_wells_top_similarity.shape)"
      ],
      "execution_count": 9,
      "outputs": [
        {
          "output_type": "stream",
          "text": [
            "(17618,) (17618,) (17618,)\n"
          ],
          "name": "stdout"
        }
      ]
    },
    {
      "cell_type": "code",
      "metadata": {
        "id": "eMzzxN00PDyf",
        "colab_type": "code",
        "colab": {
          "base_uri": "https://localhost:8080/",
          "height": 774
        },
        "outputId": "87e80b45-e8e1-4838-e44f-a9f18fdaa026"
      },
      "source": [
        "# Plot result distribution\n",
        "\n",
        "fig, ax = plt.subplots(nrows=3, ncols=1,figsize=(10,10))\n",
        "ax[0].set_title(\"Credit_union vs Mortgage as vendor set\")\n",
        "ax[0].set_xlabel(\"Document similarity score distribution\")\n",
        "ax[0].set_ylabel(\"Number of documents\")\n",
        "ax[0].hist(cu_wells_top_similarity,alpha=0.3,bins=30,range=(0.4,1),color=\"red\")\n",
        "ax[0].hist(mortgages_wells_top_similarity,alpha=0.5,bins=30,range=(0.4,1),color=\"green\")\n",
        "\n",
        "ax[1].set_title(\"Credit_union vs Banks as vendor set\")\n",
        "ax[1].set_xlabel(\"Document similarity score distribution\")\n",
        "ax[1].set_ylabel(\"Number of documents\")\n",
        "ax[1].hist(cu_wells_top_similarity,alpha=0.3,bins=30,range=(0.4,1),color=\"red\")\n",
        "ax[1].hist(banks_wells_top_similarity,alpha=0.7,bins=30,range=(0.4,1),color=\"blue\")\n",
        "\n",
        "ax[2].set_title(\"Mortgage vs Banks as vendor set\")\n",
        "ax[2].set_xlabel(\"Document similarity score distribution\")\n",
        "ax[2].set_ylabel(\"Number of documents\")\n",
        "ax[2].hist(mortgages_wells_top_similarity,alpha=0.5,bins=30,range=(0.4,1),color=\"green\")\n",
        "ax[2].hist(banks_wells_top_similarity,alpha=0.7,bins=30,range=(0.4,1),color=\"blue\")"
      ],
      "execution_count": 10,
      "outputs": [
        {
          "output_type": "execute_result",
          "data": {
            "text/plain": [
              "(array([  21.,   35.,   46.,   66.,   94.,  146.,  174.,  300.,  416.,\n",
              "         637.,  794., 1026., 1388., 1595., 1835., 2022., 1887., 1746.,\n",
              "        1320.,  904.,  540.,  282.,  136.,   19.,    8.,   10.,   16.,\n",
              "           3.,   19.,   78.]),\n",
              " array([0.4 , 0.42, 0.44, 0.46, 0.48, 0.5 , 0.52, 0.54, 0.56, 0.58, 0.6 ,\n",
              "        0.62, 0.64, 0.66, 0.68, 0.7 , 0.72, 0.74, 0.76, 0.78, 0.8 , 0.82,\n",
              "        0.84, 0.86, 0.88, 0.9 , 0.92, 0.94, 0.96, 0.98, 1.  ],\n",
              "       dtype=float32),\n",
              " <a list of 30 Patch objects>)"
            ]
          },
          "metadata": {
            "tags": []
          },
          "execution_count": 10
        },
        {
          "output_type": "display_data",
          "data": {
            "image/png": "[encoded data removed]",
            "text/plain": [
              "<Figure size 720x720 with 3 Axes>"
            ]
          },
          "metadata": {
            "tags": [],
            "needs_background": "light"
          }
        }
      ]
    },
    {
      "cell_type": "markdown",
      "metadata": {
        "id": "NLYBjfazVcCY",
        "colab_type": "text"
      },
      "source": [
        "Approach 2.2 Use define closes meaning sentence as cosine similarity >= some threshold, find number of close meaning sentence as document score\n"
      ]
    },
    {
      "cell_type": "code",
      "metadata": {
        "id": "rFHgAA4PQ182",
        "colab_type": "code",
        "colab": {}
      },
      "source": [
        "# Nearest neighbours\n",
        "similarity_threshold=0.9\n",
        "cu_wells_threshold_count=np.sum((cu_wells_matrix>=similarity_threshold),axis=1)\n",
        "mortgages_wells_threshold_count=np.sum((mortgages_wells_matrix>=similarity_threshold),axis=1)\n",
        "banks_wells_threshold_count=np.sum((banks_wells_matrix>=similarity_threshold),axis=1)"
      ],
      "execution_count": 11,
      "outputs": []
    },
    {
      "cell_type": "code",
      "metadata": {
        "id": "Sbz6Bz01Q1_o",
        "colab_type": "code",
        "colab": {
          "base_uri": "https://localhost:8080/",
          "height": 729
        },
        "outputId": "3f10a01b-ff70-418c-8307-24d9083078e6"
      },
      "source": [
        "fig, ax = plt.subplots(nrows=3, ncols=1,figsize=(10,10))\n",
        "ax[0].set_title(\"Cu vs Wells\")\n",
        "ax[0].set_xlabel(\"Number of close sentences in vendor set\")\n",
        "ax[0].set_ylabel(\"Number of documents\")\n",
        "ax[0].hist(cu_wells_threshold_count,alpha=1,bins=20,range=(5,150),color=\"red\")\n",
        "\n",
        "ax[1].set_title(\"Mortgages vs Wells\")\n",
        "ax[1].set_xlabel(\"Number of close sentences in vendor set\")\n",
        "ax[1].set_ylabel(\"Number of documents\")\n",
        "ax[1].hist(cu_wells_threshold_count,alpha=1,bins=20,range=(5,150),color=\"green\")\n",
        "\n",
        "ax[2].set_title(\"Banks vs Wells\")\n",
        "ax[2].set_xlabel(\"Number of close sentences in vendor set\")\n",
        "ax[2].set_ylabel(\"Number of documents\")\n",
        "ax[2].hist(banks_wells_threshold_count,alpha=1,bins=20,range=(5,150),color=\"blue\")\n",
        "\n",
        "plt.tight_layout()\n",
        "plt.show()"
      ],
      "execution_count": 12,
      "outputs": [
        {
          "output_type": "display_data",
          "data": {
            "image/png": "[encoded data removed]",
            "text/plain": [
              "<Figure size 720x720 with 3 Axes>"
            ]
          },
          "metadata": {
            "tags": [],
            "needs_background": "light"
          }
        }
      ]
    }
  ]
}